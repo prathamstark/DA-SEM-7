{
  "nbformat": 4,
  "nbformat_minor": 0,
  "metadata": {
    "colab": {
      "provenance": [],
      "collapsed_sections": []
    },
    "kernelspec": {
      "name": "python3",
      "display_name": "Python 3"
    },
    "language_info": {
      "name": "python"
    }
  },
  "cells": [
    {
      "cell_type": "code",
      "execution_count": 1,
      "metadata": {
        "id": "J5NpJS4wAP6q"
      },
      "outputs": [],
      "source": [
        "import pandas as pd\n",
        "%matplotlib inline\n",
        "import matplotlib.pyplot as plt\n",
        "import seaborn as sns"
      ]
    },
    {
      "cell_type": "markdown",
      "source": [
        "Importing various necessary libraries"
      ],
      "metadata": {
        "id": "utMCv_pDugC8"
      }
    },
    {
      "cell_type": "code",
      "source": [
        "car_sales = '/content/Car_sales.csv'\n",
        "df = pd.read_csv(car_sales)\n"
      ],
      "metadata": {
        "id": "8r4cw4LkAan7"
      },
      "execution_count": 2,
      "outputs": []
    },
    {
      "cell_type": "markdown",
      "source": [
        "Readinf the CSV file as dataframe"
      ],
      "metadata": {
        "id": "pQOS2fIjua0k"
      }
    },
    {
      "cell_type": "code",
      "source": [
        "df.head(5)"
      ],
      "metadata": {
        "colab": {
          "base_uri": "https://localhost:8080/",
          "height": 270
        },
        "id": "zaRBhd6KDYv9",
        "outputId": "4d5e1235-2be7-4c82-9c1c-fa756c0ecf8a"
      },
      "execution_count": 3,
      "outputs": [
        {
          "output_type": "execute_result",
          "data": {
            "text/plain": [
              "  Manufacturer    Model  Sales_in_thousands  __year_resale_value Vehicle_type  \\\n",
              "0        Acura  Integra              16.919               16.360    Passenger   \n",
              "1        Acura       TL              39.384               19.875    Passenger   \n",
              "2        Acura       CL              14.114               18.225    Passenger   \n",
              "3        Acura       RL               8.588               29.725    Passenger   \n",
              "4         Audi       A4              20.397               22.255    Passenger   \n",
              "\n",
              "   Price_in_thousands  Engine_size  Horsepower  Wheelbase  Width  Length  \\\n",
              "0               21.50          1.8       140.0      101.2   67.3   172.4   \n",
              "1               28.40          3.2       225.0      108.1   70.3   192.9   \n",
              "2                 NaN          3.2       225.0      106.9   70.6   192.0   \n",
              "3               42.00          3.5       210.0      114.6   71.4   196.6   \n",
              "4               23.99          1.8       150.0      102.6   68.2   178.0   \n",
              "\n",
              "   Curb_weight  Fuel_capacity  Fuel_efficiency Latest_Launch  \\\n",
              "0        2.639           13.2             28.0      2/2/2012   \n",
              "1        3.517           17.2             25.0      6/3/2011   \n",
              "2        3.470           17.2             26.0      1/4/2012   \n",
              "3        3.850           18.0             22.0     3/10/2011   \n",
              "4        2.998           16.4             27.0     10/8/2011   \n",
              "\n",
              "   Power_perf_factor  \n",
              "0          58.280150  \n",
              "1          91.370778  \n",
              "2                NaN  \n",
              "3          91.389779  \n",
              "4          62.777639  "
            ],
            "text/html": [
              "\n",
              "  <div id=\"df-7c6c3244-7d83-4d73-9cd8-8950e5511b89\">\n",
              "    <div class=\"colab-df-container\">\n",
              "      <div>\n",
              "<style scoped>\n",
              "    .dataframe tbody tr th:only-of-type {\n",
              "        vertical-align: middle;\n",
              "    }\n",
              "\n",
              "    .dataframe tbody tr th {\n",
              "        vertical-align: top;\n",
              "    }\n",
              "\n",
              "    .dataframe thead th {\n",
              "        text-align: right;\n",
              "    }\n",
              "</style>\n",
              "<table border=\"1\" class=\"dataframe\">\n",
              "  <thead>\n",
              "    <tr style=\"text-align: right;\">\n",
              "      <th></th>\n",
              "      <th>Manufacturer</th>\n",
              "      <th>Model</th>\n",
              "      <th>Sales_in_thousands</th>\n",
              "      <th>__year_resale_value</th>\n",
              "      <th>Vehicle_type</th>\n",
              "      <th>Price_in_thousands</th>\n",
              "      <th>Engine_size</th>\n",
              "      <th>Horsepower</th>\n",
              "      <th>Wheelbase</th>\n",
              "      <th>Width</th>\n",
              "      <th>Length</th>\n",
              "      <th>Curb_weight</th>\n",
              "      <th>Fuel_capacity</th>\n",
              "      <th>Fuel_efficiency</th>\n",
              "      <th>Latest_Launch</th>\n",
              "      <th>Power_perf_factor</th>\n",
              "    </tr>\n",
              "  </thead>\n",
              "  <tbody>\n",
              "    <tr>\n",
              "      <th>0</th>\n",
              "      <td>Acura</td>\n",
              "      <td>Integra</td>\n",
              "      <td>16.919</td>\n",
              "      <td>16.360</td>\n",
              "      <td>Passenger</td>\n",
              "      <td>21.50</td>\n",
              "      <td>1.8</td>\n",
              "      <td>140.0</td>\n",
              "      <td>101.2</td>\n",
              "      <td>67.3</td>\n",
              "      <td>172.4</td>\n",
              "      <td>2.639</td>\n",
              "      <td>13.2</td>\n",
              "      <td>28.0</td>\n",
              "      <td>2/2/2012</td>\n",
              "      <td>58.280150</td>\n",
              "    </tr>\n",
              "    <tr>\n",
              "      <th>1</th>\n",
              "      <td>Acura</td>\n",
              "      <td>TL</td>\n",
              "      <td>39.384</td>\n",
              "      <td>19.875</td>\n",
              "      <td>Passenger</td>\n",
              "      <td>28.40</td>\n",
              "      <td>3.2</td>\n",
              "      <td>225.0</td>\n",
              "      <td>108.1</td>\n",
              "      <td>70.3</td>\n",
              "      <td>192.9</td>\n",
              "      <td>3.517</td>\n",
              "      <td>17.2</td>\n",
              "      <td>25.0</td>\n",
              "      <td>6/3/2011</td>\n",
              "      <td>91.370778</td>\n",
              "    </tr>\n",
              "    <tr>\n",
              "      <th>2</th>\n",
              "      <td>Acura</td>\n",
              "      <td>CL</td>\n",
              "      <td>14.114</td>\n",
              "      <td>18.225</td>\n",
              "      <td>Passenger</td>\n",
              "      <td>NaN</td>\n",
              "      <td>3.2</td>\n",
              "      <td>225.0</td>\n",
              "      <td>106.9</td>\n",
              "      <td>70.6</td>\n",
              "      <td>192.0</td>\n",
              "      <td>3.470</td>\n",
              "      <td>17.2</td>\n",
              "      <td>26.0</td>\n",
              "      <td>1/4/2012</td>\n",
              "      <td>NaN</td>\n",
              "    </tr>\n",
              "    <tr>\n",
              "      <th>3</th>\n",
              "      <td>Acura</td>\n",
              "      <td>RL</td>\n",
              "      <td>8.588</td>\n",
              "      <td>29.725</td>\n",
              "      <td>Passenger</td>\n",
              "      <td>42.00</td>\n",
              "      <td>3.5</td>\n",
              "      <td>210.0</td>\n",
              "      <td>114.6</td>\n",
              "      <td>71.4</td>\n",
              "      <td>196.6</td>\n",
              "      <td>3.850</td>\n",
              "      <td>18.0</td>\n",
              "      <td>22.0</td>\n",
              "      <td>3/10/2011</td>\n",
              "      <td>91.389779</td>\n",
              "    </tr>\n",
              "    <tr>\n",
              "      <th>4</th>\n",
              "      <td>Audi</td>\n",
              "      <td>A4</td>\n",
              "      <td>20.397</td>\n",
              "      <td>22.255</td>\n",
              "      <td>Passenger</td>\n",
              "      <td>23.99</td>\n",
              "      <td>1.8</td>\n",
              "      <td>150.0</td>\n",
              "      <td>102.6</td>\n",
              "      <td>68.2</td>\n",
              "      <td>178.0</td>\n",
              "      <td>2.998</td>\n",
              "      <td>16.4</td>\n",
              "      <td>27.0</td>\n",
              "      <td>10/8/2011</td>\n",
              "      <td>62.777639</td>\n",
              "    </tr>\n",
              "  </tbody>\n",
              "</table>\n",
              "</div>\n",
              "      <button class=\"colab-df-convert\" onclick=\"convertToInteractive('df-7c6c3244-7d83-4d73-9cd8-8950e5511b89')\"\n",
              "              title=\"Convert this dataframe to an interactive table.\"\n",
              "              style=\"display:none;\">\n",
              "        \n",
              "  <svg xmlns=\"http://www.w3.org/2000/svg\" height=\"24px\"viewBox=\"0 0 24 24\"\n",
              "       width=\"24px\">\n",
              "    <path d=\"M0 0h24v24H0V0z\" fill=\"none\"/>\n",
              "    <path d=\"M18.56 5.44l.94 2.06.94-2.06 2.06-.94-2.06-.94-.94-2.06-.94 2.06-2.06.94zm-11 1L8.5 8.5l.94-2.06 2.06-.94-2.06-.94L8.5 2.5l-.94 2.06-2.06.94zm10 10l.94 2.06.94-2.06 2.06-.94-2.06-.94-.94-2.06-.94 2.06-2.06.94z\"/><path d=\"M17.41 7.96l-1.37-1.37c-.4-.4-.92-.59-1.43-.59-.52 0-1.04.2-1.43.59L10.3 9.45l-7.72 7.72c-.78.78-.78 2.05 0 2.83L4 21.41c.39.39.9.59 1.41.59.51 0 1.02-.2 1.41-.59l7.78-7.78 2.81-2.81c.8-.78.8-2.07 0-2.86zM5.41 20L4 18.59l7.72-7.72 1.47 1.35L5.41 20z\"/>\n",
              "  </svg>\n",
              "      </button>\n",
              "      \n",
              "  <style>\n",
              "    .colab-df-container {\n",
              "      display:flex;\n",
              "      flex-wrap:wrap;\n",
              "      gap: 12px;\n",
              "    }\n",
              "\n",
              "    .colab-df-convert {\n",
              "      background-color: #E8F0FE;\n",
              "      border: none;\n",
              "      border-radius: 50%;\n",
              "      cursor: pointer;\n",
              "      display: none;\n",
              "      fill: #1967D2;\n",
              "      height: 32px;\n",
              "      padding: 0 0 0 0;\n",
              "      width: 32px;\n",
              "    }\n",
              "\n",
              "    .colab-df-convert:hover {\n",
              "      background-color: #E2EBFA;\n",
              "      box-shadow: 0px 1px 2px rgba(60, 64, 67, 0.3), 0px 1px 3px 1px rgba(60, 64, 67, 0.15);\n",
              "      fill: #174EA6;\n",
              "    }\n",
              "\n",
              "    [theme=dark] .colab-df-convert {\n",
              "      background-color: #3B4455;\n",
              "      fill: #D2E3FC;\n",
              "    }\n",
              "\n",
              "    [theme=dark] .colab-df-convert:hover {\n",
              "      background-color: #434B5C;\n",
              "      box-shadow: 0px 1px 3px 1px rgba(0, 0, 0, 0.15);\n",
              "      filter: drop-shadow(0px 1px 2px rgba(0, 0, 0, 0.3));\n",
              "      fill: #FFFFFF;\n",
              "    }\n",
              "  </style>\n",
              "\n",
              "      <script>\n",
              "        const buttonEl =\n",
              "          document.querySelector('#df-7c6c3244-7d83-4d73-9cd8-8950e5511b89 button.colab-df-convert');\n",
              "        buttonEl.style.display =\n",
              "          google.colab.kernel.accessAllowed ? 'block' : 'none';\n",
              "\n",
              "        async function convertToInteractive(key) {\n",
              "          const element = document.querySelector('#df-7c6c3244-7d83-4d73-9cd8-8950e5511b89');\n",
              "          const dataTable =\n",
              "            await google.colab.kernel.invokeFunction('convertToInteractive',\n",
              "                                                     [key], {});\n",
              "          if (!dataTable) return;\n",
              "\n",
              "          const docLinkHtml = 'Like what you see? Visit the ' +\n",
              "            '<a target=\"_blank\" href=https://colab.research.google.com/notebooks/data_table.ipynb>data table notebook</a>'\n",
              "            + ' to learn more about interactive tables.';\n",
              "          element.innerHTML = '';\n",
              "          dataTable['output_type'] = 'display_data';\n",
              "          await google.colab.output.renderOutput(dataTable, element);\n",
              "          const docLink = document.createElement('div');\n",
              "          docLink.innerHTML = docLinkHtml;\n",
              "          element.appendChild(docLink);\n",
              "        }\n",
              "      </script>\n",
              "    </div>\n",
              "  </div>\n",
              "  "
            ]
          },
          "metadata": {},
          "execution_count": 3
        }
      ]
    },
    {
      "cell_type": "code",
      "source": [
        "print('no of rows:',df.shape[0])#\n",
        "inital_count=df.shape[0]\n",
        "print('no of columns:',df.shape[1])\n",
        "print('no of nan/missing values',df.isnull().sum().sum())\n",
        "\n",
        "print('              ')\n",
        "datatypes = df.dtypes\n",
        "print(datatypes)\n",
        "print(\"       \")\n",
        "\n",
        "print('No of null values',df.isnull().sum())# shows null values by column, counts number of true values returned from isnull function"
      ],
      "metadata": {
        "colab": {
          "base_uri": "https://localhost:8080/"
        },
        "id": "OQtC0oOvDk7i",
        "outputId": "9b74cc28-aa14-4256-fb39-333c3558dd1b"
      },
      "execution_count": 4,
      "outputs": [
        {
          "output_type": "stream",
          "name": "stdout",
          "text": [
            "no of rows: 157\n",
            "no of columns: 16\n",
            "no of nan/missing values 51\n",
            "              \n",
            "Manufacturer            object\n",
            "Model                   object\n",
            "Sales_in_thousands     float64\n",
            "__year_resale_value    float64\n",
            "Vehicle_type            object\n",
            "Price_in_thousands     float64\n",
            "Engine_size            float64\n",
            "Horsepower             float64\n",
            "Wheelbase              float64\n",
            "Width                  float64\n",
            "Length                 float64\n",
            "Curb_weight            float64\n",
            "Fuel_capacity          float64\n",
            "Fuel_efficiency        float64\n",
            "Latest_Launch           object\n",
            "Power_perf_factor      float64\n",
            "dtype: object\n",
            "       \n",
            "No of null values Manufacturer            0\n",
            "Model                   0\n",
            "Sales_in_thousands      0\n",
            "__year_resale_value    36\n",
            "Vehicle_type            0\n",
            "Price_in_thousands      2\n",
            "Engine_size             1\n",
            "Horsepower              1\n",
            "Wheelbase               1\n",
            "Width                   1\n",
            "Length                  1\n",
            "Curb_weight             2\n",
            "Fuel_capacity           1\n",
            "Fuel_efficiency         3\n",
            "Latest_Launch           0\n",
            "Power_perf_factor       2\n",
            "dtype: int64\n"
          ]
        }
      ]
    },
    {
      "cell_type": "markdown",
      "source": [
        "Finding the number of rows and columns of the dataset.\n",
        "Finding total number of null values across all rows and columns.\n",
        "Checking data type of all columns.\n",
        "Finding number of null values per column."
      ],
      "metadata": {
        "id": "yfQWm068tT9L"
      }
    },
    {
      "cell_type": "code",
      "source": [
        "# removing na values\n",
        "df=df.dropna(axis=0)"
      ],
      "metadata": {
        "id": "Rw0ls4uMa33X"
      },
      "execution_count": 5,
      "outputs": []
    },
    {
      "cell_type": "markdown",
      "source": [
        "Dropping all null values from the dataframe"
      ],
      "metadata": {
        "id": "QgPR950euXPS"
      }
    },
    {
      "cell_type": "code",
      "source": [
        "print(df.isnull().sum())\n",
        "print('   ')\n",
        "print('Shape of dataframe: ',df.shape)\n",
        "final_count=df.shape[0]\n",
        "print('No of rows dropped',inital_count-final_count)"
      ],
      "metadata": {
        "colab": {
          "base_uri": "https://localhost:8080/"
        },
        "id": "8X1XvyjRc7H6",
        "outputId": "ebb39c2b-759e-4d1a-9472-10b744ed794f"
      },
      "execution_count": 6,
      "outputs": [
        {
          "output_type": "stream",
          "name": "stdout",
          "text": [
            "Manufacturer           0\n",
            "Model                  0\n",
            "Sales_in_thousands     0\n",
            "__year_resale_value    0\n",
            "Vehicle_type           0\n",
            "Price_in_thousands     0\n",
            "Engine_size            0\n",
            "Horsepower             0\n",
            "Wheelbase              0\n",
            "Width                  0\n",
            "Length                 0\n",
            "Curb_weight            0\n",
            "Fuel_capacity          0\n",
            "Fuel_efficiency        0\n",
            "Latest_Launch          0\n",
            "Power_perf_factor      0\n",
            "dtype: int64\n",
            "   \n",
            "Shape of dataframe:  (117, 16)\n",
            "No of rows dropped 40\n"
          ]
        }
      ]
    },
    {
      "cell_type": "markdown",
      "source": [
        "Checking the number of null values after dropping null values.\n",
        "Finding the number of rows dropped."
      ],
      "metadata": {
        "id": "EnXZwKTmum91"
      }
    },
    {
      "cell_type": "markdown",
      "source": [],
      "metadata": {
        "id": "W2skp4tMvSVW"
      }
    },
    {
      "cell_type": "code",
      "source": [
        "print(df['Manufacturer'].unique(),'        **total number of Manufactures = ',len(df['Manufacturer'].unique()),'**')\n",
        "print('     ')\n",
        "\n",
        "#general info\n",
        "most_expensive_car=df.loc[[df['Price_in_thousands'].idxmax()]]\n",
        "print(most_expensive_car)\n",
        "least_expensive_car=df.loc[[df['Price_in_thousands'].idxmin()]]\n",
        "print(least_expensive_car)\n",
        "avg_car_length=df['Length'].mean()\n",
        "\n",
        "#casting\n",
        "print(df['Fuel_capacity'].dtypes)\n",
        "df = df.astype({'Fuel_capacity':'int'})\n",
        "print(df['Fuel_capacity'].dtypes)\n",
        "\n",
        "#Finding total sales value\n",
        "by_brand = df.groupby(['Manufacturer'])['Manufacturer'].count()\n",
        "\n",
        "total_sales_bybrand=df.groupby(['Manufacturer'])['Sales_in_thousands'].sum()*1000\n",
        "print('Highest sales by value:',total_sales_bybrand.idxmax(),':',int(total_sales_bybrand.max()))\n",
        "\n",
        "#filtering\n",
        "df[df['Horsepower'] > 300]\n",
        "\n",
        "\n",
        "\n"
      ],
      "metadata": {
        "colab": {
          "base_uri": "https://localhost:8080/",
          "height": 777
        },
        "id": "inuLDzYAdH0a",
        "outputId": "da223cec-2d73-4b00-b855-7d91bc58f5c5"
      },
      "execution_count": 7,
      "outputs": [
        {
          "output_type": "stream",
          "name": "stdout",
          "text": [
            "['Acura' 'Audi' 'BMW' 'Buick' 'Cadillac' 'Chevrolet' 'Chrysler' 'Dodge'\n",
            " 'Ford' 'Honda' 'Hyundai' 'Infiniti' 'Jeep' 'Lexus' 'Lincoln' 'Mitsubishi'\n",
            " 'Mercury' 'Mercedes-B' 'Nissan' 'Oldsmobile' 'Plymouth' 'Pontiac'\n",
            " 'Porsche' 'Saturn' 'Toyota' 'Volkswagen']         **total number of Manufactures =  26 **\n",
            "     \n",
            "   Manufacturer     Model  Sales_in_thousands  __year_resale_value  \\\n",
            "95   Mercedes-B  SL-Class               3.311                 58.6   \n",
            "\n",
            "   Vehicle_type  Price_in_thousands  Engine_size  Horsepower  Wheelbase  \\\n",
            "95    Passenger                82.6          5.0       302.0       99.0   \n",
            "\n",
            "    Width  Length  Curb_weight  Fuel_capacity  Fuel_efficiency Latest_Launch  \\\n",
            "95   71.3   177.1        4.125           21.1             20.0     3/17/2011   \n",
            "\n",
            "    Power_perf_factor  \n",
            "95         139.982294  \n",
            "   Manufacturer  Model  Sales_in_thousands  __year_resale_value Vehicle_type  \\\n",
            "26    Chevrolet  Metro              21.855                 5.16    Passenger   \n",
            "\n",
            "    Price_in_thousands  Engine_size  Horsepower  Wheelbase  Width  Length  \\\n",
            "26               9.235          1.0        55.0       93.1   62.6   149.4   \n",
            "\n",
            "    Curb_weight  Fuel_capacity  Fuel_efficiency Latest_Launch  \\\n",
            "26        1.895           10.3             45.0     4/13/2012   \n",
            "\n",
            "    Power_perf_factor  \n",
            "26          23.276272  \n",
            "float64\n",
            "int64\n",
            "Highest sales by value: Ford : 1846965\n"
          ]
        },
        {
          "output_type": "execute_result",
          "data": {
            "text/plain": [
              "   Manufacturer     Model  Sales_in_thousands  __year_resale_value  \\\n",
              "6          Audi        A8               1.380               39.000   \n",
              "24    Chevrolet  Corvette              17.947               36.225   \n",
              "39        Dodge     Viper               0.916               58.470   \n",
              "95   Mercedes-B  SL-Class               3.311               58.600   \n",
              "\n",
              "   Vehicle_type  Price_in_thousands  Engine_size  Horsepower  Wheelbase  \\\n",
              "6     Passenger              62.000          4.2       310.0      113.0   \n",
              "24    Passenger              45.705          5.7       345.0      104.5   \n",
              "39    Passenger              69.725          8.0       450.0       96.2   \n",
              "95    Passenger              82.600          5.0       302.0       99.0   \n",
              "\n",
              "    Width  Length  Curb_weight  Fuel_capacity  Fuel_efficiency Latest_Launch  \\\n",
              "6    74.0   198.2        3.902             23             21.0     2/27/2012   \n",
              "24   73.6   179.7        3.210             19             22.0     5/12/2012   \n",
              "39   75.7   176.7        3.375             19             16.0      8/7/2011   \n",
              "95   71.3   177.1        4.125             21             20.0     3/17/2011   \n",
              "\n",
              "    Power_perf_factor  \n",
              "6          134.656858  \n",
              "24         141.141150  \n",
              "39         188.144323  \n",
              "95         139.982294  "
            ],
            "text/html": [
              "\n",
              "  <div id=\"df-f57e3a3e-c6a4-4ce7-bc37-90840fdc2753\">\n",
              "    <div class=\"colab-df-container\">\n",
              "      <div>\n",
              "<style scoped>\n",
              "    .dataframe tbody tr th:only-of-type {\n",
              "        vertical-align: middle;\n",
              "    }\n",
              "\n",
              "    .dataframe tbody tr th {\n",
              "        vertical-align: top;\n",
              "    }\n",
              "\n",
              "    .dataframe thead th {\n",
              "        text-align: right;\n",
              "    }\n",
              "</style>\n",
              "<table border=\"1\" class=\"dataframe\">\n",
              "  <thead>\n",
              "    <tr style=\"text-align: right;\">\n",
              "      <th></th>\n",
              "      <th>Manufacturer</th>\n",
              "      <th>Model</th>\n",
              "      <th>Sales_in_thousands</th>\n",
              "      <th>__year_resale_value</th>\n",
              "      <th>Vehicle_type</th>\n",
              "      <th>Price_in_thousands</th>\n",
              "      <th>Engine_size</th>\n",
              "      <th>Horsepower</th>\n",
              "      <th>Wheelbase</th>\n",
              "      <th>Width</th>\n",
              "      <th>Length</th>\n",
              "      <th>Curb_weight</th>\n",
              "      <th>Fuel_capacity</th>\n",
              "      <th>Fuel_efficiency</th>\n",
              "      <th>Latest_Launch</th>\n",
              "      <th>Power_perf_factor</th>\n",
              "    </tr>\n",
              "  </thead>\n",
              "  <tbody>\n",
              "    <tr>\n",
              "      <th>6</th>\n",
              "      <td>Audi</td>\n",
              "      <td>A8</td>\n",
              "      <td>1.380</td>\n",
              "      <td>39.000</td>\n",
              "      <td>Passenger</td>\n",
              "      <td>62.000</td>\n",
              "      <td>4.2</td>\n",
              "      <td>310.0</td>\n",
              "      <td>113.0</td>\n",
              "      <td>74.0</td>\n",
              "      <td>198.2</td>\n",
              "      <td>3.902</td>\n",
              "      <td>23</td>\n",
              "      <td>21.0</td>\n",
              "      <td>2/27/2012</td>\n",
              "      <td>134.656858</td>\n",
              "    </tr>\n",
              "    <tr>\n",
              "      <th>24</th>\n",
              "      <td>Chevrolet</td>\n",
              "      <td>Corvette</td>\n",
              "      <td>17.947</td>\n",
              "      <td>36.225</td>\n",
              "      <td>Passenger</td>\n",
              "      <td>45.705</td>\n",
              "      <td>5.7</td>\n",
              "      <td>345.0</td>\n",
              "      <td>104.5</td>\n",
              "      <td>73.6</td>\n",
              "      <td>179.7</td>\n",
              "      <td>3.210</td>\n",
              "      <td>19</td>\n",
              "      <td>22.0</td>\n",
              "      <td>5/12/2012</td>\n",
              "      <td>141.141150</td>\n",
              "    </tr>\n",
              "    <tr>\n",
              "      <th>39</th>\n",
              "      <td>Dodge</td>\n",
              "      <td>Viper</td>\n",
              "      <td>0.916</td>\n",
              "      <td>58.470</td>\n",
              "      <td>Passenger</td>\n",
              "      <td>69.725</td>\n",
              "      <td>8.0</td>\n",
              "      <td>450.0</td>\n",
              "      <td>96.2</td>\n",
              "      <td>75.7</td>\n",
              "      <td>176.7</td>\n",
              "      <td>3.375</td>\n",
              "      <td>19</td>\n",
              "      <td>16.0</td>\n",
              "      <td>8/7/2011</td>\n",
              "      <td>188.144323</td>\n",
              "    </tr>\n",
              "    <tr>\n",
              "      <th>95</th>\n",
              "      <td>Mercedes-B</td>\n",
              "      <td>SL-Class</td>\n",
              "      <td>3.311</td>\n",
              "      <td>58.600</td>\n",
              "      <td>Passenger</td>\n",
              "      <td>82.600</td>\n",
              "      <td>5.0</td>\n",
              "      <td>302.0</td>\n",
              "      <td>99.0</td>\n",
              "      <td>71.3</td>\n",
              "      <td>177.1</td>\n",
              "      <td>4.125</td>\n",
              "      <td>21</td>\n",
              "      <td>20.0</td>\n",
              "      <td>3/17/2011</td>\n",
              "      <td>139.982294</td>\n",
              "    </tr>\n",
              "  </tbody>\n",
              "</table>\n",
              "</div>\n",
              "      <button class=\"colab-df-convert\" onclick=\"convertToInteractive('df-f57e3a3e-c6a4-4ce7-bc37-90840fdc2753')\"\n",
              "              title=\"Convert this dataframe to an interactive table.\"\n",
              "              style=\"display:none;\">\n",
              "        \n",
              "  <svg xmlns=\"http://www.w3.org/2000/svg\" height=\"24px\"viewBox=\"0 0 24 24\"\n",
              "       width=\"24px\">\n",
              "    <path d=\"M0 0h24v24H0V0z\" fill=\"none\"/>\n",
              "    <path d=\"M18.56 5.44l.94 2.06.94-2.06 2.06-.94-2.06-.94-.94-2.06-.94 2.06-2.06.94zm-11 1L8.5 8.5l.94-2.06 2.06-.94-2.06-.94L8.5 2.5l-.94 2.06-2.06.94zm10 10l.94 2.06.94-2.06 2.06-.94-2.06-.94-.94-2.06-.94 2.06-2.06.94z\"/><path d=\"M17.41 7.96l-1.37-1.37c-.4-.4-.92-.59-1.43-.59-.52 0-1.04.2-1.43.59L10.3 9.45l-7.72 7.72c-.78.78-.78 2.05 0 2.83L4 21.41c.39.39.9.59 1.41.59.51 0 1.02-.2 1.41-.59l7.78-7.78 2.81-2.81c.8-.78.8-2.07 0-2.86zM5.41 20L4 18.59l7.72-7.72 1.47 1.35L5.41 20z\"/>\n",
              "  </svg>\n",
              "      </button>\n",
              "      \n",
              "  <style>\n",
              "    .colab-df-container {\n",
              "      display:flex;\n",
              "      flex-wrap:wrap;\n",
              "      gap: 12px;\n",
              "    }\n",
              "\n",
              "    .colab-df-convert {\n",
              "      background-color: #E8F0FE;\n",
              "      border: none;\n",
              "      border-radius: 50%;\n",
              "      cursor: pointer;\n",
              "      display: none;\n",
              "      fill: #1967D2;\n",
              "      height: 32px;\n",
              "      padding: 0 0 0 0;\n",
              "      width: 32px;\n",
              "    }\n",
              "\n",
              "    .colab-df-convert:hover {\n",
              "      background-color: #E2EBFA;\n",
              "      box-shadow: 0px 1px 2px rgba(60, 64, 67, 0.3), 0px 1px 3px 1px rgba(60, 64, 67, 0.15);\n",
              "      fill: #174EA6;\n",
              "    }\n",
              "\n",
              "    [theme=dark] .colab-df-convert {\n",
              "      background-color: #3B4455;\n",
              "      fill: #D2E3FC;\n",
              "    }\n",
              "\n",
              "    [theme=dark] .colab-df-convert:hover {\n",
              "      background-color: #434B5C;\n",
              "      box-shadow: 0px 1px 3px 1px rgba(0, 0, 0, 0.15);\n",
              "      filter: drop-shadow(0px 1px 2px rgba(0, 0, 0, 0.3));\n",
              "      fill: #FFFFFF;\n",
              "    }\n",
              "  </style>\n",
              "\n",
              "      <script>\n",
              "        const buttonEl =\n",
              "          document.querySelector('#df-f57e3a3e-c6a4-4ce7-bc37-90840fdc2753 button.colab-df-convert');\n",
              "        buttonEl.style.display =\n",
              "          google.colab.kernel.accessAllowed ? 'block' : 'none';\n",
              "\n",
              "        async function convertToInteractive(key) {\n",
              "          const element = document.querySelector('#df-f57e3a3e-c6a4-4ce7-bc37-90840fdc2753');\n",
              "          const dataTable =\n",
              "            await google.colab.kernel.invokeFunction('convertToInteractive',\n",
              "                                                     [key], {});\n",
              "          if (!dataTable) return;\n",
              "\n",
              "          const docLinkHtml = 'Like what you see? Visit the ' +\n",
              "            '<a target=\"_blank\" href=https://colab.research.google.com/notebooks/data_table.ipynb>data table notebook</a>'\n",
              "            + ' to learn more about interactive tables.';\n",
              "          element.innerHTML = '';\n",
              "          dataTable['output_type'] = 'display_data';\n",
              "          await google.colab.output.renderOutput(dataTable, element);\n",
              "          const docLink = document.createElement('div');\n",
              "          docLink.innerHTML = docLinkHtml;\n",
              "          element.appendChild(docLink);\n",
              "        }\n",
              "      </script>\n",
              "    </div>\n",
              "  </div>\n",
              "  "
            ]
          },
          "metadata": {},
          "execution_count": 7
        }
      ]
    },
    {
      "cell_type": "code",
      "source": [
        "a=df[df['Horsepower'] > 300]\n",
        "print(a.shape[0])"
      ],
      "metadata": {
        "colab": {
          "base_uri": "https://localhost:8080/"
        },
        "id": "RjmB5_xEkyDc",
        "outputId": "2a1071bf-2483-4544-fb54-ef3440f0c8cd"
      },
      "execution_count": 8,
      "outputs": [
        {
          "output_type": "stream",
          "name": "stdout",
          "text": [
            "4\n"
          ]
        }
      ]
    },
    {
      "cell_type": "markdown",
      "source": [],
      "metadata": {
        "id": "Ay2znVjevxty"
      }
    },
    {
      "cell_type": "markdown",
      "source": [
        "Finding various Manufacturing car companies of the dataset.\n",
        "Finding the most and least expensive car.\n",
        "Finding the average length of the car.\n",
        "Changing the data type of fuel capacity attribute from float to int.\n",
        "Finding the total number of cars of each different Manufacturer.\n",
        "Finding total sales of each Manufacturing company.\n",
        "Filtering data based on horsepower\n"
      ],
      "metadata": {
        "id": "8-_wvs7Wvxys"
      }
    },
    {
      "cell_type": "code",
      "source": [
        "# Analysing p/r ratio of different vehicle types\n",
        "df['p/w']=df['Horsepower']/df['Curb_weight']\n",
        "df2=df[df['Vehicle_type'] == 'Car']#filtering sedans, df2 p/w of cars only\n",
        "df2=df2.sort_values(by=['p/w'])\n",
        "df2=df2[['Vehicle_type','p/w']]\n",
        "# print(df2['p/r'])\n",
        "\n",
        "df3= df[df['Vehicle_type'] == 'Passenger']# filtering suv, p/w of passenger/suv only\n",
        "df3=df3.sort_values(by=['p/w'])\n",
        "df3=df3[['Vehicle_type','p/w']]\n",
        "# print(df3['p/r'])\n",
        "\n",
        "print(df2.describe())\n",
        "print(df3.describe())"
      ],
      "metadata": {
        "colab": {
          "base_uri": "https://localhost:8080/"
        },
        "id": "kDD1zdBW02gE",
        "outputId": "ce00763a-85a8-4e46-d928-a6953328b74d"
      },
      "execution_count": 9,
      "outputs": [
        {
          "output_type": "stream",
          "name": "stdout",
          "text": [
            "             p/w\n",
            "count  29.000000\n",
            "mean   46.359121\n",
            "std     5.876127\n",
            "min    33.736295\n",
            "25%    42.517007\n",
            "50%    45.355701\n",
            "75%    50.257732\n",
            "max    59.486537\n",
            "              p/w\n",
            "count   88.000000\n",
            "mean    56.833374\n",
            "std     15.140907\n",
            "min     29.023747\n",
            "25%     49.075086\n",
            "50%     53.602620\n",
            "75%     61.093491\n",
            "max    133.333333\n"
          ]
        }
      ]
    },
    {
      "cell_type": "markdown",
      "source": [
        "Creating a new attribute called power to weight ration and analysing this attribute based of car type."
      ],
      "metadata": {
        "id": "snQcEacnxBhC"
      }
    },
    {
      "cell_type": "markdown",
      "source": [],
      "metadata": {
        "id": "zp4ekoM2xQWU"
      }
    },
    {
      "cell_type": "markdown",
      "source": [],
      "metadata": {
        "id": "20usbFlmxUOK"
      }
    },
    {
      "cell_type": "markdown",
      "source": [],
      "metadata": {
        "id": "87SEOkYOxWkE"
      }
    },
    {
      "cell_type": "code",
      "source": [
        "#line plot of car length\n",
        "\n",
        "sns.set(style=\"dark\")\n",
        "sns.distplot(df['Length'], kde=True, color=\"black\")"
      ],
      "metadata": {
        "colab": {
          "base_uri": "https://localhost:8080/",
          "height": 357
        },
        "id": "XozId0Iix7YA",
        "outputId": "b4b96fb7-b093-4572-9565-b732d7762c36"
      },
      "execution_count": 10,
      "outputs": [
        {
          "output_type": "stream",
          "name": "stderr",
          "text": [
            "/usr/local/lib/python3.7/dist-packages/seaborn/distributions.py:2619: FutureWarning: `distplot` is a deprecated function and will be removed in a future version. Please adapt your code to use either `displot` (a figure-level function with similar flexibility) or `histplot` (an axes-level function for histograms).\n",
            "  warnings.warn(msg, FutureWarning)\n"
          ]
        },
        {
          "output_type": "execute_result",
          "data": {
            "text/plain": [
              "<matplotlib.axes._subplots.AxesSubplot at 0x7f28c2447f50>"
            ]
          },
          "metadata": {},
          "execution_count": 10
        },
        {
          "output_type": "display_data",
          "data": {
            "text/plain": [
              "<Figure size 432x288 with 1 Axes>"
            ],
            "image/png": "[encoded data removed]"
          },
          "metadata": {}
        }
      ]
    },
    {
      "cell_type": "markdown",
      "source": [
        "Plotting histogram for length of car. This graph is a normal distribution, and we get its density curve. From observation we can analyse that most of the cars length lies between 180-200. "
      ],
      "metadata": {
        "id": "xYlGoZzaxXqB"
      }
    },
    {
      "cell_type": "code",
      "source": [
        "#whisker plot\n",
        "sns.catplot(x='Horsepower', kind='box', data=df)\n"
      ],
      "metadata": {
        "colab": {
          "base_uri": "https://localhost:8080/",
          "height": 382
        },
        "id": "SFipuRRolXYZ",
        "outputId": "4a6a5a98-1d90-4efb-f784-d44b773adfd9"
      },
      "execution_count": 11,
      "outputs": [
        {
          "output_type": "execute_result",
          "data": {
            "text/plain": [
              "<seaborn.axisgrid.FacetGrid at 0x7f28c22c3a50>"
            ]
          },
          "metadata": {},
          "execution_count": 11
        },
        {
          "output_type": "display_data",
          "data": {
            "text/plain": [
              "<Figure size 360x360 with 1 Axes>"
            ],
            "image/png": "[encoded data removed]"
          },
          "metadata": {}
        }
      ]
    },
    {
      "cell_type": "markdown",
      "source": [
        "This a box/whisker plot. It shows Q1,Q2,Q3 values of column horsepower.\n",
        "The 25th percentile/Q1 is at approximately 150.\n",
        "The 50th percentile/Q2/median is approximately 175.\n",
        "The 75th percentile/Q3 is at approximately 200\n",
        "The interquatile range is 200-150=50"
      ],
      "metadata": {
        "id": "TFjviHArx1W-"
      }
    },
    {
      "cell_type": "code",
      "source": [
        "sns.relplot(x='Engine_size', y='Horsepower',hue='Fuel_efficiency', data=df)"
      ],
      "metadata": {
        "colab": {
          "base_uri": "https://localhost:8080/",
          "height": 382
        },
        "id": "rUUliB_MtgQE",
        "outputId": "add5a624-e4d0-4511-e9c7-5e1a1db25644"
      },
      "execution_count": 12,
      "outputs": [
        {
          "output_type": "execute_result",
          "data": {
            "text/plain": [
              "<seaborn.axisgrid.FacetGrid at 0x7f28c1e03f90>"
            ]
          },
          "metadata": {},
          "execution_count": 12
        },
        {
          "output_type": "display_data",
          "data": {
            "text/plain": [
              "<Figure size 457.05x360 with 1 Axes>"
            ],
            "image/png": "[encoded data removed]"
          },
          "metadata": {}
        }
      ]
    },
    {
      "cell_type": "markdown",
      "source": [
        "This is a scatter plot, It shows that as engine size increases, horsepower also increases and fuel effeciency decreases.Hence engine size and horsepower are driectly proportional while engine size and fuel effeciency are inversely proportional"
      ],
      "metadata": {
        "id": "6fP4zzXAyu4z"
      }
    },
    {
      "cell_type": "code",
      "source": [
        "sns.heatmap(df.corr())"
      ],
      "metadata": {
        "colab": {
          "base_uri": "https://localhost:8080/",
          "height": 389
        },
        "id": "E2ov9-kquPqR",
        "outputId": "a97f00dc-f4cf-411d-ef2d-536ff3d1bf30"
      },
      "execution_count": 13,
      "outputs": [
        {
          "output_type": "execute_result",
          "data": {
            "text/plain": [
              "<matplotlib.axes._subplots.AxesSubplot at 0x7f28bf5aae90>"
            ]
          },
          "metadata": {},
          "execution_count": 13
        },
        {
          "output_type": "display_data",
          "data": {
            "text/plain": [
              "<Figure size 432x288 with 2 Axes>"
            ],
            "image/png": "[encoded data removed]"
          },
          "metadata": {}
        }
      ]
    },
    {
      "cell_type": "markdown",
      "source": [
        "This is a heat map which show realation of attributes with respect to other attributes."
      ],
      "metadata": {
        "id": "dlc-ZjNHzMdG"
      }
    },
    {
      "cell_type": "code",
      "source": [
        "df4= df[ (df['Manufacturer'] == 'Ford') | (df['Manufacturer']=='Dodge') | (df['Manufacturer']=='Toyota') | (df['Manufacturer']=='Mitsubishi') | (df['Manufacturer']=='Chevrole')  ]\n",
        "sns.catplot(y='Engine_size',x='Manufacturer',data=df4)"
      ],
      "metadata": {
        "id": "Mxadit2uvCoM",
        "colab": {
          "base_uri": "https://localhost:8080/",
          "height": 382
        },
        "outputId": "8fe8b361-9f03-4b81-9103-73876b995c25"
      },
      "execution_count": 14,
      "outputs": [
        {
          "output_type": "execute_result",
          "data": {
            "text/plain": [
              "<seaborn.axisgrid.FacetGrid at 0x7f28c2cb6810>"
            ]
          },
          "metadata": {},
          "execution_count": 14
        },
        {
          "output_type": "display_data",
          "data": {
            "text/plain": [
              "<Figure size 360x360 with 1 Axes>"
            ],
            "image/png": "[encoded data removed]"
          },
          "metadata": {}
        }
      ]
    },
    {
      "cell_type": "markdown",
      "source": [
        "This graph shows the comparison of the engine size with respect to car manufacturer, with every indivisual car having different car engine size"
      ],
      "metadata": {
        "id": "86p06Zd56Paz"
      }
    },
    {
      "cell_type": "code",
      "source": [
        "sns.catplot(y='Length',x='Manufacturer',data=df4)"
      ],
      "metadata": {
        "id": "GzCZ9Zshlkeu",
        "colab": {
          "base_uri": "https://localhost:8080/",
          "height": 382
        },
        "outputId": "31f75b5c-d4da-4b31-dc09-bf86659ce7b1"
      },
      "execution_count": 15,
      "outputs": [
        {
          "output_type": "execute_result",
          "data": {
            "text/plain": [
              "<seaborn.axisgrid.FacetGrid at 0x7f28bf43ad10>"
            ]
          },
          "metadata": {},
          "execution_count": 15
        },
        {
          "output_type": "display_data",
          "data": {
            "text/plain": [
              "<Figure size 360x360 with 1 Axes>"
            ],
            "image/png": "[encoded data removed]"
          },
          "metadata": {}
        }
      ]
    },
    {
      "cell_type": "markdown",
      "source": [
        "This graph compares the length of cars of different manufacturer, the length of car is in inches"
      ],
      "metadata": {
        "id": "cEGA-2r07AyM"
      }
    },
    {
      "cell_type": "markdown",
      "source": [
        "This graph shows the com"
      ],
      "metadata": {
        "id": "-KBzpBKO6mVE"
      }
    },
    {
      "cell_type": "code",
      "source": [
        "sns.distplot(df['Horsepower'], bins=20, rug=True, hist=False)"
      ],
      "metadata": {
        "colab": {
          "base_uri": "https://localhost:8080/",
          "height": 392
        },
        "id": "vhAjbrxEnVLO",
        "outputId": "817d1034-891c-4e7b-cf58-ea4bb93f44cd"
      },
      "execution_count": 16,
      "outputs": [
        {
          "output_type": "stream",
          "name": "stderr",
          "text": [
            "/usr/local/lib/python3.7/dist-packages/seaborn/distributions.py:2619: FutureWarning: `distplot` is a deprecated function and will be removed in a future version. Please adapt your code to use either `displot` (a figure-level function with similar flexibility) or `kdeplot` (an axes-level function for kernel density plots).\n",
            "  warnings.warn(msg, FutureWarning)\n",
            "/usr/local/lib/python3.7/dist-packages/seaborn/distributions.py:2103: FutureWarning: The `axis` variable is no longer used and will be removed. Instead, assign variables directly to `x` or `y`.\n",
            "  warnings.warn(msg, FutureWarning)\n"
          ]
        },
        {
          "output_type": "execute_result",
          "data": {
            "text/plain": [
              "<matplotlib.axes._subplots.AxesSubplot at 0x7f28bf404910>"
            ]
          },
          "metadata": {},
          "execution_count": 16
        },
        {
          "output_type": "display_data",
          "data": {
            "text/plain": [
              "<Figure size 432x288 with 1 Axes>"
            ],
            "image/png": "[encoded data removed]"
          },
          "metadata": {}
        }
      ]
    },
    {
      "cell_type": "markdown",
      "source": [
        "This graph shows the probability of car having a certain horsepower. The maximum probability in this case lies between 150-200."
      ],
      "metadata": {
        "id": "R9Zyn8Ow7K6D"
      }
    },
    {
      "cell_type": "code",
      "source": [
        "sns.distplot(df['p/w'], bins=20, rug=True, hist=False)"
      ],
      "metadata": {
        "colab": {
          "base_uri": "https://localhost:8080/",
          "height": 392
        },
        "id": "2EAOgQUGnVcP",
        "outputId": "2f81ed25-eced-4fa9-8bc3-554d7724f81c"
      },
      "execution_count": 17,
      "outputs": [
        {
          "output_type": "stream",
          "name": "stderr",
          "text": [
            "/usr/local/lib/python3.7/dist-packages/seaborn/distributions.py:2619: FutureWarning: `distplot` is a deprecated function and will be removed in a future version. Please adapt your code to use either `displot` (a figure-level function with similar flexibility) or `kdeplot` (an axes-level function for kernel density plots).\n",
            "  warnings.warn(msg, FutureWarning)\n",
            "/usr/local/lib/python3.7/dist-packages/seaborn/distributions.py:2103: FutureWarning: The `axis` variable is no longer used and will be removed. Instead, assign variables directly to `x` or `y`.\n",
            "  warnings.warn(msg, FutureWarning)\n"
          ]
        },
        {
          "output_type": "execute_result",
          "data": {
            "text/plain": [
              "<matplotlib.axes._subplots.AxesSubplot at 0x7f28bf31b890>"
            ]
          },
          "metadata": {},
          "execution_count": 17
        },
        {
          "output_type": "display_data",
          "data": {
            "text/plain": [
              "<Figure size 432x288 with 1 Axes>"
            ],
            "image/png": "[encoded data removed]"
          },
          "metadata": {}
        }
      ]
    },
    {
      "cell_type": "markdown",
      "source": [
        "This graph shows probability of car having certain power to weight ration. The maximum probability lies between 45-60 approximately."
      ],
      "metadata": {
        "id": "WEsAWa6p7tXZ"
      }
    },
    {
      "cell_type": "code",
      "source": [
        "sns.histplot(data=df, x=\"Vehicle_type\" , stat='percent')"
      ],
      "metadata": {
        "id": "SkRHmWN5qp8k",
        "colab": {
          "base_uri": "https://localhost:8080/",
          "height": 302
        },
        "outputId": "67591806-4b2e-4634-f9f4-05bcc40247a2"
      },
      "execution_count": 19,
      "outputs": [
        {
          "output_type": "execute_result",
          "data": {
            "text/plain": [
              "<matplotlib.axes._subplots.AxesSubplot at 0x7f28bf320b10>"
            ]
          },
          "metadata": {},
          "execution_count": 19
        },
        {
          "output_type": "display_data",
          "data": {
            "text/plain": [
              "<Figure size 432x288 with 1 Axes>"
            ],
            "image/png": "[encoded data removed]"
          },
          "metadata": {}
        }
      ]
    },
    {
      "cell_type": "markdown",
      "source": [
        "This graph shows the frequency of passenger(vehicle type) and car (vehicle type) in percentage"
      ],
      "metadata": {
        "id": "pznBGC8i7zOG"
      }
    }
  ]
}