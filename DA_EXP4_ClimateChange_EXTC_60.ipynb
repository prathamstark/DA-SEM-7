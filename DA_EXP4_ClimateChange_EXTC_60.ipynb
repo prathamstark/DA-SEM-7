{
  "nbformat": 4,
  "nbformat_minor": 0,
  "metadata": {
    "colab": {
      "provenance": []
    },
    "kernelspec": {
      "name": "python3",
      "display_name": "Python 3"
    },
    "language_info": {
      "name": "python"
    }
  },
  "cells": [
    {
      "cell_type": "markdown",
      "source": [
        "# Experiment 4\n",
        "Pratham D Solanki   2019120060   BE EXTC"
      ],
      "metadata": {
        "id": "uglI_I9EQzWV"
      }
    },
    {
      "cell_type": "code",
      "source": [],
      "metadata": {
        "id": "pFulATTxFP-p"
      },
      "execution_count": 132,
      "outputs": []
    },
    {
      "cell_type": "code",
      "execution_count": 133,
      "metadata": {
        "id": "xaMkzClSl-rz"
      },
      "outputs": [],
      "source": [
        "import pandas as pd\n",
        "import seaborn as sns\n",
        "import numpy as np\n",
        "import matplotlib.pyplot as plt\n",
        "from sklearn.metrics import r2_score"
      ]
    },
    {
      "cell_type": "markdown",
      "source": [
        "The given data set is a climate change dataset with the amount of various gases and substances in air and the temperature of the air in every year. We have to find out the correaltion of all the variables and build linear regression models with the data"
      ],
      "metadata": {
        "id": "DVoquXzlcHJy"
      }
    },
    {
      "cell_type": "code",
      "source": [
        "data = pd.read_csv(\"climate_change.csv\")\n",
        "print(data.shape)\n",
        "data.head(10)"
      ],
      "metadata": {
        "colab": {
          "base_uri": "https://localhost:8080/",
          "height": 380
        },
        "id": "fvQpBj3Tn-fe",
        "outputId": "752373a5-7c35-4904-d81d-b2ea5254e399"
      },
      "execution_count": 134,
      "outputs": [
        {
          "output_type": "stream",
          "name": "stdout",
          "text": [
            "(308, 11)\n"
          ]
        },
        {
          "output_type": "execute_result",
          "data": {
            "text/plain": [
              "   Year  Month    MEI     CO2      CH4      N2O   CFC-11   CFC-12        TSI  \\\n",
              "0  1983      5  2.556  345.96  1638.59  303.677  191.324  350.113  1366.1024   \n",
              "1  1983      6  2.167  345.52  1633.71  303.746  192.057  351.848  1366.1208   \n",
              "2  1983      7  1.741  344.15  1633.22  303.795  192.818  353.725  1366.2850   \n",
              "3  1983      8  1.130  342.25  1631.35  303.839  193.602  355.633  1366.4202   \n",
              "4  1983      9  0.428  340.17  1648.40  303.901  194.392  357.465  1366.2335   \n",
              "5  1983     10  0.002  340.30  1663.79  303.970  195.171  359.174  1366.0589   \n",
              "6  1983     11 -0.176  341.53  1658.23  304.032  195.921  360.758  1366.1072   \n",
              "7  1983     12 -0.176  343.07  1654.31  304.082  196.609  362.174  1366.0607   \n",
              "8  1984      1 -0.339  344.05  1658.98  304.130  197.219  363.359  1365.4261   \n",
              "9  1984      2 -0.565  344.77  1656.48  304.194  197.759  364.296  1365.6618   \n",
              "\n",
              "   Aerosols   Temp  \n",
              "0    0.0863  0.109  \n",
              "1    0.0794  0.118  \n",
              "2    0.0731  0.137  \n",
              "3    0.0673  0.176  \n",
              "4    0.0619  0.149  \n",
              "5    0.0569  0.093  \n",
              "6    0.0524  0.232  \n",
              "7    0.0486  0.078  \n",
              "8    0.0451  0.089  \n",
              "9    0.0416  0.013  "
            ],
            "text/html": [
              "\n",
              "  <div id=\"df-a42721ec-b021-4df8-ab11-0832aeccbab3\">\n",
              "    <div class=\"colab-df-container\">\n",
              "      <div>\n",
              "<style scoped>\n",
              "    .dataframe tbody tr th:only-of-type {\n",
              "        vertical-align: middle;\n",
              "    }\n",
              "\n",
              "    .dataframe tbody tr th {\n",
              "        vertical-align: top;\n",
              "    }\n",
              "\n",
              "    .dataframe thead th {\n",
              "        text-align: right;\n",
              "    }\n",
              "</style>\n",
              "<table border=\"1\" class=\"dataframe\">\n",
              "  <thead>\n",
              "    <tr style=\"text-align: right;\">\n",
              "      <th></th>\n",
              "      <th>Year</th>\n",
              "      <th>Month</th>\n",
              "      <th>MEI</th>\n",
              "      <th>CO2</th>\n",
              "      <th>CH4</th>\n",
              "      <th>N2O</th>\n",
              "      <th>CFC-11</th>\n",
              "      <th>CFC-12</th>\n",
              "      <th>TSI</th>\n",
              "      <th>Aerosols</th>\n",
              "      <th>Temp</th>\n",
              "    </tr>\n",
              "  </thead>\n",
              "  <tbody>\n",
              "    <tr>\n",
              "      <th>0</th>\n",
              "      <td>1983</td>\n",
              "      <td>5</td>\n",
              "      <td>2.556</td>\n",
              "      <td>345.96</td>\n",
              "      <td>1638.59</td>\n",
              "      <td>303.677</td>\n",
              "      <td>191.324</td>\n",
              "      <td>350.113</td>\n",
              "      <td>1366.1024</td>\n",
              "      <td>0.0863</td>\n",
              "      <td>0.109</td>\n",
              "    </tr>\n",
              "    <tr>\n",
              "      <th>1</th>\n",
              "      <td>1983</td>\n",
              "      <td>6</td>\n",
              "      <td>2.167</td>\n",
              "      <td>345.52</td>\n",
              "      <td>1633.71</td>\n",
              "      <td>303.746</td>\n",
              "      <td>192.057</td>\n",
              "      <td>351.848</td>\n",
              "      <td>1366.1208</td>\n",
              "      <td>0.0794</td>\n",
              "      <td>0.118</td>\n",
              "    </tr>\n",
              "    <tr>\n",
              "      <th>2</th>\n",
              "      <td>1983</td>\n",
              "      <td>7</td>\n",
              "      <td>1.741</td>\n",
              "      <td>344.15</td>\n",
              "      <td>1633.22</td>\n",
              "      <td>303.795</td>\n",
              "      <td>192.818</td>\n",
              "      <td>353.725</td>\n",
              "      <td>1366.2850</td>\n",
              "      <td>0.0731</td>\n",
              "      <td>0.137</td>\n",
              "    </tr>\n",
              "    <tr>\n",
              "      <th>3</th>\n",
              "      <td>1983</td>\n",
              "      <td>8</td>\n",
              "      <td>1.130</td>\n",
              "      <td>342.25</td>\n",
              "      <td>1631.35</td>\n",
              "      <td>303.839</td>\n",
              "      <td>193.602</td>\n",
              "      <td>355.633</td>\n",
              "      <td>1366.4202</td>\n",
              "      <td>0.0673</td>\n",
              "      <td>0.176</td>\n",
              "    </tr>\n",
              "    <tr>\n",
              "      <th>4</th>\n",
              "      <td>1983</td>\n",
              "      <td>9</td>\n",
              "      <td>0.428</td>\n",
              "      <td>340.17</td>\n",
              "      <td>1648.40</td>\n",
              "      <td>303.901</td>\n",
              "      <td>194.392</td>\n",
              "      <td>357.465</td>\n",
              "      <td>1366.2335</td>\n",
              "      <td>0.0619</td>\n",
              "      <td>0.149</td>\n",
              "    </tr>\n",
              "    <tr>\n",
              "      <th>5</th>\n",
              "      <td>1983</td>\n",
              "      <td>10</td>\n",
              "      <td>0.002</td>\n",
              "      <td>340.30</td>\n",
              "      <td>1663.79</td>\n",
              "      <td>303.970</td>\n",
              "      <td>195.171</td>\n",
              "      <td>359.174</td>\n",
              "      <td>1366.0589</td>\n",
              "      <td>0.0569</td>\n",
              "      <td>0.093</td>\n",
              "    </tr>\n",
              "    <tr>\n",
              "      <th>6</th>\n",
              "      <td>1983</td>\n",
              "      <td>11</td>\n",
              "      <td>-0.176</td>\n",
              "      <td>341.53</td>\n",
              "      <td>1658.23</td>\n",
              "      <td>304.032</td>\n",
              "      <td>195.921</td>\n",
              "      <td>360.758</td>\n",
              "      <td>1366.1072</td>\n",
              "      <td>0.0524</td>\n",
              "      <td>0.232</td>\n",
              "    </tr>\n",
              "    <tr>\n",
              "      <th>7</th>\n",
              "      <td>1983</td>\n",
              "      <td>12</td>\n",
              "      <td>-0.176</td>\n",
              "      <td>343.07</td>\n",
              "      <td>1654.31</td>\n",
              "      <td>304.082</td>\n",
              "      <td>196.609</td>\n",
              "      <td>362.174</td>\n",
              "      <td>1366.0607</td>\n",
              "      <td>0.0486</td>\n",
              "      <td>0.078</td>\n",
              "    </tr>\n",
              "    <tr>\n",
              "      <th>8</th>\n",
              "      <td>1984</td>\n",
              "      <td>1</td>\n",
              "      <td>-0.339</td>\n",
              "      <td>344.05</td>\n",
              "      <td>1658.98</td>\n",
              "      <td>304.130</td>\n",
              "      <td>197.219</td>\n",
              "      <td>363.359</td>\n",
              "      <td>1365.4261</td>\n",
              "      <td>0.0451</td>\n",
              "      <td>0.089</td>\n",
              "    </tr>\n",
              "    <tr>\n",
              "      <th>9</th>\n",
              "      <td>1984</td>\n",
              "      <td>2</td>\n",
              "      <td>-0.565</td>\n",
              "      <td>344.77</td>\n",
              "      <td>1656.48</td>\n",
              "      <td>304.194</td>\n",
              "      <td>197.759</td>\n",
              "      <td>364.296</td>\n",
              "      <td>1365.6618</td>\n",
              "      <td>0.0416</td>\n",
              "      <td>0.013</td>\n",
              "    </tr>\n",
              "  </tbody>\n",
              "</table>\n",
              "</div>\n",
              "      <button class=\"colab-df-convert\" onclick=\"convertToInteractive('df-a42721ec-b021-4df8-ab11-0832aeccbab3')\"\n",
              "              title=\"Convert this dataframe to an interactive table.\"\n",
              "              style=\"display:none;\">\n",
              "        \n",
              "  <svg xmlns=\"http://www.w3.org/2000/svg\" height=\"24px\"viewBox=\"0 0 24 24\"\n",
              "       width=\"24px\">\n",
              "    <path d=\"M0 0h24v24H0V0z\" fill=\"none\"/>\n",
              "    <path d=\"M18.56 5.44l.94 2.06.94-2.06 2.06-.94-2.06-.94-.94-2.06-.94 2.06-2.06.94zm-11 1L8.5 8.5l.94-2.06 2.06-.94-2.06-.94L8.5 2.5l-.94 2.06-2.06.94zm10 10l.94 2.06.94-2.06 2.06-.94-2.06-.94-.94-2.06-.94 2.06-2.06.94z\"/><path d=\"M17.41 7.96l-1.37-1.37c-.4-.4-.92-.59-1.43-.59-.52 0-1.04.2-1.43.59L10.3 9.45l-7.72 7.72c-.78.78-.78 2.05 0 2.83L4 21.41c.39.39.9.59 1.41.59.51 0 1.02-.2 1.41-.59l7.78-7.78 2.81-2.81c.8-.78.8-2.07 0-2.86zM5.41 20L4 18.59l7.72-7.72 1.47 1.35L5.41 20z\"/>\n",
              "  </svg>\n",
              "      </button>\n",
              "      \n",
              "  <style>\n",
              "    .colab-df-container {\n",
              "      display:flex;\n",
              "      flex-wrap:wrap;\n",
              "      gap: 12px;\n",
              "    }\n",
              "\n",
              "    .colab-df-convert {\n",
              "      background-color: #E8F0FE;\n",
              "      border: none;\n",
              "      border-radius: 50%;\n",
              "      cursor: pointer;\n",
              "      display: none;\n",
              "      fill: #1967D2;\n",
              "      height: 32px;\n",
              "      padding: 0 0 0 0;\n",
              "      width: 32px;\n",
              "    }\n",
              "\n",
              "    .colab-df-convert:hover {\n",
              "      background-color: #E2EBFA;\n",
              "      box-shadow: 0px 1px 2px rgba(60, 64, 67, 0.3), 0px 1px 3px 1px rgba(60, 64, 67, 0.15);\n",
              "      fill: #174EA6;\n",
              "    }\n",
              "\n",
              "    [theme=dark] .colab-df-convert {\n",
              "      background-color: #3B4455;\n",
              "      fill: #D2E3FC;\n",
              "    }\n",
              "\n",
              "    [theme=dark] .colab-df-convert:hover {\n",
              "      background-color: #434B5C;\n",
              "      box-shadow: 0px 1px 3px 1px rgba(0, 0, 0, 0.15);\n",
              "      filter: drop-shadow(0px 1px 2px rgba(0, 0, 0, 0.3));\n",
              "      fill: #FFFFFF;\n",
              "    }\n",
              "  </style>\n",
              "\n",
              "      <script>\n",
              "        const buttonEl =\n",
              "          document.querySelector('#df-a42721ec-b021-4df8-ab11-0832aeccbab3 button.colab-df-convert');\n",
              "        buttonEl.style.display =\n",
              "          google.colab.kernel.accessAllowed ? 'block' : 'none';\n",
              "\n",
              "        async function convertToInteractive(key) {\n",
              "          const element = document.querySelector('#df-a42721ec-b021-4df8-ab11-0832aeccbab3');\n",
              "          const dataTable =\n",
              "            await google.colab.kernel.invokeFunction('convertToInteractive',\n",
              "                                                     [key], {});\n",
              "          if (!dataTable) return;\n",
              "\n",
              "          const docLinkHtml = 'Like what you see? Visit the ' +\n",
              "            '<a target=\"_blank\" href=https://colab.research.google.com/notebooks/data_table.ipynb>data table notebook</a>'\n",
              "            + ' to learn more about interactive tables.';\n",
              "          element.innerHTML = '';\n",
              "          dataTable['output_type'] = 'display_data';\n",
              "          await google.colab.output.renderOutput(dataTable, element);\n",
              "          const docLink = document.createElement('div');\n",
              "          docLink.innerHTML = docLinkHtml;\n",
              "          element.appendChild(docLink);\n",
              "        }\n",
              "      </script>\n",
              "    </div>\n",
              "  </div>\n",
              "  "
            ]
          },
          "metadata": {},
          "execution_count": 134
        }
      ]
    },
    {
      "cell_type": "code",
      "source": [
        "Q1 = data.quantile(0.25)\n",
        "Q3 = data.quantile(0.75)\n",
        "IQR = Q3 - Q1\n",
        "#print(IQR)\n",
        "data = data[~((data < (Q1 - 1.5 * IQR)) |(data > (Q3 + 1.5 * IQR))).any(axis=1)]# removing outliers in data"
      ],
      "metadata": {
        "id": "20bMiDDDrrPs"
      },
      "execution_count": 135,
      "outputs": []
    },
    {
      "cell_type": "code",
      "source": [
        "def get_corr_coef(data, col):\n",
        "  for i in data.columns:\n",
        "    if(i != col):\n",
        "      r = np.corrcoef(data[col], data[i])\n",
        "      print(\"The correlation coefficient of {} and {} is {}\".format(col, i, r[1][0]))"
      ],
      "metadata": {
        "id": "H4el8c3ETwAI"
      },
      "execution_count": 136,
      "outputs": []
    },
    {
      "cell_type": "markdown",
      "source": [
        "Finding inner quartile range to remove outliers and making correlation heatmap of the variable in the dataset"
      ],
      "metadata": {
        "id": "9DAx1IaecsxI"
      }
    },
    {
      "cell_type": "code",
      "source": [
        "c = data.corr()\n",
        "sns.heatmap(c, annot = True)"
      ],
      "metadata": {
        "colab": {
          "base_uri": "https://localhost:8080/",
          "height": 318
        },
        "id": "gHqKAK2bqPgL",
        "outputId": "9099e39c-9c4f-4889-e29e-90657a6a6317"
      },
      "execution_count": 137,
      "outputs": [
        {
          "output_type": "execute_result",
          "data": {
            "text/plain": [
              "<matplotlib.axes._subplots.AxesSubplot at 0x7f1fa4ff4910>"
            ]
          },
          "metadata": {},
          "execution_count": 137
        },
        {
          "output_type": "display_data",
          "data": {
            "text/plain": [
              "<Figure size 432x288 with 2 Axes>"
            ],
            "image/png": "[encoded data removed]"
          },
          "metadata": {
            "needs_background": "light"
          }
        }
      ]
    },
    {
      "cell_type": "markdown",
      "source": [
        "From the above correlation map we can see that CO2, CH4,N20 and CFC-12 are highly corellated with the Temperature."
      ],
      "metadata": {
        "id": "WmPdbSvweWrp"
      }
    },
    {
      "cell_type": "markdown",
      "source": [
        "Building Model"
      ],
      "metadata": {
        "id": "z5XtJ6dVetuU"
      }
    },
    {
      "cell_type": "code",
      "source": [
        "import statsmodels.api as sm\n",
        "from sklearn.model_selection import train_test_split\n",
        "# If p-value < 0.05 -->Significant\n",
        "# If p-value > 0.05 -->Not Significant\n",
        "x = data[['MEI', 'CO2', 'CH4', 'N2O', 'CFC-11', 'CFC-12', 'TSI',\n",
        "       'Aerosols']]\n",
        "y = data[['Temp']]\n",
        "\n",
        "x_const = sm.add_constant(x)\n",
        "model = sm.OLS(y, x_const) \n",
        "results = model.fit() \n",
        "\n",
        "print('The condition number is ',results.condition_number)\n",
        "p_df=pd.DataFrame({'coef': results.params , 'pvalue': round(results.pvalues,3)})\n",
        "print(\"The attributes with pvalue less than 0.05 are as follows\")\n",
        "p_df[ p_df['pvalue']<0.05 ]\n",
        "\n",
        "\n"
      ],
      "metadata": {
        "colab": {
          "base_uri": "https://localhost:8080/",
          "height": 296
        },
        "id": "YSTYByJ8HLp8",
        "outputId": "377f985c-cc10-48e4-e400-de16d705078e"
      },
      "execution_count": 138,
      "outputs": [
        {
          "output_type": "stream",
          "name": "stdout",
          "text": [
            "The condition number is  9937148.489619825\n",
            "The attributes with pvalue less than 0.05 are as follows\n"
          ]
        },
        {
          "output_type": "stream",
          "name": "stderr",
          "text": [
            "/usr/local/lib/python3.7/dist-packages/statsmodels/tsa/tsatools.py:142: FutureWarning: In a future version of pandas all arguments of concat except for the argument 'objs' will be keyword-only\n",
            "  x = pd.concat(x[::order], 1)\n"
          ]
        },
        {
          "output_type": "execute_result",
          "data": {
            "text/plain": [
              "               coef  pvalue\n",
              "const    -60.837790   0.011\n",
              "MEI        0.066470   0.000\n",
              "CFC-12     0.002671   0.031\n",
              "TSI        0.044867   0.012\n",
              "Aerosols  -8.233947   0.000"
            ],
            "text/html": [
              "\n",
              "  <div id=\"df-d2fc4aac-2bed-42f3-966e-6e9627c9d2fd\">\n",
              "    <div class=\"colab-df-container\">\n",
              "      <div>\n",
              "<style scoped>\n",
              "    .dataframe tbody tr th:only-of-type {\n",
              "        vertical-align: middle;\n",
              "    }\n",
              "\n",
              "    .dataframe tbody tr th {\n",
              "        vertical-align: top;\n",
              "    }\n",
              "\n",
              "    .dataframe thead th {\n",
              "        text-align: right;\n",
              "    }\n",
              "</style>\n",
              "<table border=\"1\" class=\"dataframe\">\n",
              "  <thead>\n",
              "    <tr style=\"text-align: right;\">\n",
              "      <th></th>\n",
              "      <th>coef</th>\n",
              "      <th>pvalue</th>\n",
              "    </tr>\n",
              "  </thead>\n",
              "  <tbody>\n",
              "    <tr>\n",
              "      <th>const</th>\n",
              "      <td>-60.837790</td>\n",
              "      <td>0.011</td>\n",
              "    </tr>\n",
              "    <tr>\n",
              "      <th>MEI</th>\n",
              "      <td>0.066470</td>\n",
              "      <td>0.000</td>\n",
              "    </tr>\n",
              "    <tr>\n",
              "      <th>CFC-12</th>\n",
              "      <td>0.002671</td>\n",
              "      <td>0.031</td>\n",
              "    </tr>\n",
              "    <tr>\n",
              "      <th>TSI</th>\n",
              "      <td>0.044867</td>\n",
              "      <td>0.012</td>\n",
              "    </tr>\n",
              "    <tr>\n",
              "      <th>Aerosols</th>\n",
              "      <td>-8.233947</td>\n",
              "      <td>0.000</td>\n",
              "    </tr>\n",
              "  </tbody>\n",
              "</table>\n",
              "</div>\n",
              "      <button class=\"colab-df-convert\" onclick=\"convertToInteractive('df-d2fc4aac-2bed-42f3-966e-6e9627c9d2fd')\"\n",
              "              title=\"Convert this dataframe to an interactive table.\"\n",
              "              style=\"display:none;\">\n",
              "        \n",
              "  <svg xmlns=\"http://www.w3.org/2000/svg\" height=\"24px\"viewBox=\"0 0 24 24\"\n",
              "       width=\"24px\">\n",
              "    <path d=\"M0 0h24v24H0V0z\" fill=\"none\"/>\n",
              "    <path d=\"M18.56 5.44l.94 2.06.94-2.06 2.06-.94-2.06-.94-.94-2.06-.94 2.06-2.06.94zm-11 1L8.5 8.5l.94-2.06 2.06-.94-2.06-.94L8.5 2.5l-.94 2.06-2.06.94zm10 10l.94 2.06.94-2.06 2.06-.94-2.06-.94-.94-2.06-.94 2.06-2.06.94z\"/><path d=\"M17.41 7.96l-1.37-1.37c-.4-.4-.92-.59-1.43-.59-.52 0-1.04.2-1.43.59L10.3 9.45l-7.72 7.72c-.78.78-.78 2.05 0 2.83L4 21.41c.39.39.9.59 1.41.59.51 0 1.02-.2 1.41-.59l7.78-7.78 2.81-2.81c.8-.78.8-2.07 0-2.86zM5.41 20L4 18.59l7.72-7.72 1.47 1.35L5.41 20z\"/>\n",
              "  </svg>\n",
              "      </button>\n",
              "      \n",
              "  <style>\n",
              "    .colab-df-container {\n",
              "      display:flex;\n",
              "      flex-wrap:wrap;\n",
              "      gap: 12px;\n",
              "    }\n",
              "\n",
              "    .colab-df-convert {\n",
              "      background-color: #E8F0FE;\n",
              "      border: none;\n",
              "      border-radius: 50%;\n",
              "      cursor: pointer;\n",
              "      display: none;\n",
              "      fill: #1967D2;\n",
              "      height: 32px;\n",
              "      padding: 0 0 0 0;\n",
              "      width: 32px;\n",
              "    }\n",
              "\n",
              "    .colab-df-convert:hover {\n",
              "      background-color: #E2EBFA;\n",
              "      box-shadow: 0px 1px 2px rgba(60, 64, 67, 0.3), 0px 1px 3px 1px rgba(60, 64, 67, 0.15);\n",
              "      fill: #174EA6;\n",
              "    }\n",
              "\n",
              "    [theme=dark] .colab-df-convert {\n",
              "      background-color: #3B4455;\n",
              "      fill: #D2E3FC;\n",
              "    }\n",
              "\n",
              "    [theme=dark] .colab-df-convert:hover {\n",
              "      background-color: #434B5C;\n",
              "      box-shadow: 0px 1px 3px 1px rgba(0, 0, 0, 0.15);\n",
              "      filter: drop-shadow(0px 1px 2px rgba(0, 0, 0, 0.3));\n",
              "      fill: #FFFFFF;\n",
              "    }\n",
              "  </style>\n",
              "\n",
              "      <script>\n",
              "        const buttonEl =\n",
              "          document.querySelector('#df-d2fc4aac-2bed-42f3-966e-6e9627c9d2fd button.colab-df-convert');\n",
              "        buttonEl.style.display =\n",
              "          google.colab.kernel.accessAllowed ? 'block' : 'none';\n",
              "\n",
              "        async function convertToInteractive(key) {\n",
              "          const element = document.querySelector('#df-d2fc4aac-2bed-42f3-966e-6e9627c9d2fd');\n",
              "          const dataTable =\n",
              "            await google.colab.kernel.invokeFunction('convertToInteractive',\n",
              "                                                     [key], {});\n",
              "          if (!dataTable) return;\n",
              "\n",
              "          const docLinkHtml = 'Like what you see? Visit the ' +\n",
              "            '<a target=\"_blank\" href=https://colab.research.google.com/notebooks/data_table.ipynb>data table notebook</a>'\n",
              "            + ' to learn more about interactive tables.';\n",
              "          element.innerHTML = '';\n",
              "          dataTable['output_type'] = 'display_data';\n",
              "          await google.colab.output.renderOutput(dataTable, element);\n",
              "          const docLink = document.createElement('div');\n",
              "          docLink.innerHTML = docLinkHtml;\n",
              "          element.appendChild(docLink);\n",
              "        }\n",
              "      </script>\n",
              "    </div>\n",
              "  </div>\n",
              "  "
            ]
          },
          "metadata": {},
          "execution_count": 138
        }
      ]
    },
    {
      "cell_type": "markdown",
      "source": [
        "Since the condition number is very high, it indicates that there is high multicolliniarity"
      ],
      "metadata": {
        "id": "USz0CvjhQ97e"
      }
    },
    {
      "cell_type": "markdown",
      "source": [
        "We see that CFC-12, TSI, AEROSOLS and MEI have p values less than 0.05"
      ],
      "metadata": {
        "id": "np3UjzC0fds7"
      }
    },
    {
      "cell_type": "markdown",
      "source": [
        "## **Creating Model number 1**"
      ],
      "metadata": {
        "id": "z8aeoeI-U9Fi"
      }
    },
    {
      "cell_type": "code",
      "source": [
        "df1 = data[data.iloc[:,0]<=2006]  \n",
        "df2 = data[data.iloc[:,0]>2006]  \n",
        "\n",
        "x = data[['MEI', 'CO2', 'CH4', 'N2O', 'CFC-11', 'CFC-12', 'TSI', 'Aerosols']]\n",
        "y = data['Temp']\n",
        "\n",
        "x_train = df1[['MEI','CO2', 'CH4', 'N2O', 'CFC-11', 'CFC-12', 'TSI', 'Aerosols']]\n",
        "y_train = df1['Temp']\n",
        "x_test = df2[['MEI', 'CO2', 'CH4', 'N2O', 'CFC-11',  'CFC-12', 'TSI', 'Aerosols']]\n",
        "y_test = df2['Temp']\n",
        "# 'CO2', 'CH4', 'N2O', 'CFC-11',\n",
        "\n",
        "print('shape of df1 = ',df1.shape)\n",
        "print('shape of df2 = ',df2.shape)"
      ],
      "metadata": {
        "id": "OWxgrX9qw1f-",
        "colab": {
          "base_uri": "https://localhost:8080/"
        },
        "outputId": "830cccb0-36c8-4bb9-88d9-a60caac21486"
      },
      "execution_count": 139,
      "outputs": [
        {
          "output_type": "stream",
          "name": "stdout",
          "text": [
            "shape of df1 =  (219, 11)\n",
            "shape of df2 =  (24, 11)\n"
          ]
        }
      ]
    },
    {
      "cell_type": "code",
      "source": [
        "from sklearn.linear_model import LinearRegression\n",
        "lr = LinearRegression()  \n",
        "lr.fit(x_train, y_train)\n",
        "\n",
        "print(\"Intercept: \", lr.intercept_)\n",
        "print(\"Coefficients:\")\n",
        "print(list(zip(x, lr.coef_)))\n",
        "\n",
        "y_pred_lr= lr.predict(x_test)\n",
        "#Predicted values\n",
        "# print(\"Prediction for test set: {}\".format(y_pred_lr))"
      ],
      "metadata": {
        "colab": {
          "base_uri": "https://localhost:8080/"
        },
        "id": "NxNLQNNYw6mC",
        "outputId": "3d3a314a-50c1-4e9c-8327-419415348292"
      },
      "execution_count": 140,
      "outputs": [
        {
          "output_type": "stream",
          "name": "stdout",
          "text": [
            "Intercept:  -51.031969159858036\n",
            "Coefficients:\n",
            "[('MEI', 0.06223569777302381), ('CO2', 0.0049606987940408465), ('CH4', -0.00038810727802363575), ('N2O', 0.0018262419311547184), ('CFC-11', -0.0011344993284555694), ('CFC-12', 0.0014013277032073551), ('TSI', 0.03604734063953119), ('Aerosols', -8.435947559286046)]\n"
          ]
        }
      ]
    },
    {
      "cell_type": "code",
      "source": [
        "lr_diff = pd.DataFrame({'Actual value': y_test, 'Predicted value': y_pred_lr})\n",
        "lr_diff.head()"
      ],
      "metadata": {
        "colab": {
          "base_uri": "https://localhost:8080/",
          "height": 206
        },
        "id": "T0Boz3TQxdRW",
        "outputId": "ca6ffea3-fb2e-4b82-fdd5-0156a721fc4d"
      },
      "execution_count": 141,
      "outputs": [
        {
          "output_type": "execute_result",
          "data": {
            "text/plain": [
              "     Actual value  Predicted value\n",
              "284         0.601         0.473959\n",
              "285         0.498         0.450364\n",
              "286         0.435         0.433475\n",
              "287         0.466         0.434303\n",
              "288         0.372         0.454074"
            ],
            "text/html": [
              "\n",
              "  <div id=\"df-0bde7a7f-c177-472b-99f5-055a22c4084a\">\n",
              "    <div class=\"colab-df-container\">\n",
              "      <div>\n",
              "<style scoped>\n",
              "    .dataframe tbody tr th:only-of-type {\n",
              "        vertical-align: middle;\n",
              "    }\n",
              "\n",
              "    .dataframe tbody tr th {\n",
              "        vertical-align: top;\n",
              "    }\n",
              "\n",
              "    .dataframe thead th {\n",
              "        text-align: right;\n",
              "    }\n",
              "</style>\n",
              "<table border=\"1\" class=\"dataframe\">\n",
              "  <thead>\n",
              "    <tr style=\"text-align: right;\">\n",
              "      <th></th>\n",
              "      <th>Actual value</th>\n",
              "      <th>Predicted value</th>\n",
              "    </tr>\n",
              "  </thead>\n",
              "  <tbody>\n",
              "    <tr>\n",
              "      <th>284</th>\n",
              "      <td>0.601</td>\n",
              "      <td>0.473959</td>\n",
              "    </tr>\n",
              "    <tr>\n",
              "      <th>285</th>\n",
              "      <td>0.498</td>\n",
              "      <td>0.450364</td>\n",
              "    </tr>\n",
              "    <tr>\n",
              "      <th>286</th>\n",
              "      <td>0.435</td>\n",
              "      <td>0.433475</td>\n",
              "    </tr>\n",
              "    <tr>\n",
              "      <th>287</th>\n",
              "      <td>0.466</td>\n",
              "      <td>0.434303</td>\n",
              "    </tr>\n",
              "    <tr>\n",
              "      <th>288</th>\n",
              "      <td>0.372</td>\n",
              "      <td>0.454074</td>\n",
              "    </tr>\n",
              "  </tbody>\n",
              "</table>\n",
              "</div>\n",
              "      <button class=\"colab-df-convert\" onclick=\"convertToInteractive('df-0bde7a7f-c177-472b-99f5-055a22c4084a')\"\n",
              "              title=\"Convert this dataframe to an interactive table.\"\n",
              "              style=\"display:none;\">\n",
              "        \n",
              "  <svg xmlns=\"http://www.w3.org/2000/svg\" height=\"24px\"viewBox=\"0 0 24 24\"\n",
              "       width=\"24px\">\n",
              "    <path d=\"M0 0h24v24H0V0z\" fill=\"none\"/>\n",
              "    <path d=\"M18.56 5.44l.94 2.06.94-2.06 2.06-.94-2.06-.94-.94-2.06-.94 2.06-2.06.94zm-11 1L8.5 8.5l.94-2.06 2.06-.94-2.06-.94L8.5 2.5l-.94 2.06-2.06.94zm10 10l.94 2.06.94-2.06 2.06-.94-2.06-.94-.94-2.06-.94 2.06-2.06.94z\"/><path d=\"M17.41 7.96l-1.37-1.37c-.4-.4-.92-.59-1.43-.59-.52 0-1.04.2-1.43.59L10.3 9.45l-7.72 7.72c-.78.78-.78 2.05 0 2.83L4 21.41c.39.39.9.59 1.41.59.51 0 1.02-.2 1.41-.59l7.78-7.78 2.81-2.81c.8-.78.8-2.07 0-2.86zM5.41 20L4 18.59l7.72-7.72 1.47 1.35L5.41 20z\"/>\n",
              "  </svg>\n",
              "      </button>\n",
              "      \n",
              "  <style>\n",
              "    .colab-df-container {\n",
              "      display:flex;\n",
              "      flex-wrap:wrap;\n",
              "      gap: 12px;\n",
              "    }\n",
              "\n",
              "    .colab-df-convert {\n",
              "      background-color: #E8F0FE;\n",
              "      border: none;\n",
              "      border-radius: 50%;\n",
              "      cursor: pointer;\n",
              "      display: none;\n",
              "      fill: #1967D2;\n",
              "      height: 32px;\n",
              "      padding: 0 0 0 0;\n",
              "      width: 32px;\n",
              "    }\n",
              "\n",
              "    .colab-df-convert:hover {\n",
              "      background-color: #E2EBFA;\n",
              "      box-shadow: 0px 1px 2px rgba(60, 64, 67, 0.3), 0px 1px 3px 1px rgba(60, 64, 67, 0.15);\n",
              "      fill: #174EA6;\n",
              "    }\n",
              "\n",
              "    [theme=dark] .colab-df-convert {\n",
              "      background-color: #3B4455;\n",
              "      fill: #D2E3FC;\n",
              "    }\n",
              "\n",
              "    [theme=dark] .colab-df-convert:hover {\n",
              "      background-color: #434B5C;\n",
              "      box-shadow: 0px 1px 3px 1px rgba(0, 0, 0, 0.15);\n",
              "      filter: drop-shadow(0px 1px 2px rgba(0, 0, 0, 0.3));\n",
              "      fill: #FFFFFF;\n",
              "    }\n",
              "  </style>\n",
              "\n",
              "      <script>\n",
              "        const buttonEl =\n",
              "          document.querySelector('#df-0bde7a7f-c177-472b-99f5-055a22c4084a button.colab-df-convert');\n",
              "        buttonEl.style.display =\n",
              "          google.colab.kernel.accessAllowed ? 'block' : 'none';\n",
              "\n",
              "        async function convertToInteractive(key) {\n",
              "          const element = document.querySelector('#df-0bde7a7f-c177-472b-99f5-055a22c4084a');\n",
              "          const dataTable =\n",
              "            await google.colab.kernel.invokeFunction('convertToInteractive',\n",
              "                                                     [key], {});\n",
              "          if (!dataTable) return;\n",
              "\n",
              "          const docLinkHtml = 'Like what you see? Visit the ' +\n",
              "            '<a target=\"_blank\" href=https://colab.research.google.com/notebooks/data_table.ipynb>data table notebook</a>'\n",
              "            + ' to learn more about interactive tables.';\n",
              "          element.innerHTML = '';\n",
              "          dataTable['output_type'] = 'display_data';\n",
              "          await google.colab.output.renderOutput(dataTable, element);\n",
              "          const docLink = document.createElement('div');\n",
              "          docLink.innerHTML = docLinkHtml;\n",
              "          element.appendChild(docLink);\n",
              "        }\n",
              "      </script>\n",
              "    </div>\n",
              "  </div>\n",
              "  "
            ]
          },
          "metadata": {},
          "execution_count": 141
        }
      ]
    },
    {
      "cell_type": "code",
      "source": [
        "from sklearn import metrics\n",
        "meanAbErr = metrics.mean_absolute_error(y_test, y_pred_lr)\n",
        "meanSqErr = metrics.mean_squared_error(y_test, y_pred_lr)\n",
        "rootMeanSqErr = np.sqrt(metrics.mean_squared_error(y_test, y_pred_lr))\n",
        "print('R squared: ',lr.score(x,y)*100)\n",
        "print('Mean Absolute Error:', meanAbErr)\n",
        "print('Mean Square Error:', meanSqErr)\n",
        "print('Root Mean Square Error:', rootMeanSqErr)"
      ],
      "metadata": {
        "colab": {
          "base_uri": "https://localhost:8080/"
        },
        "id": "eCF2n9gXx2Ob",
        "outputId": "0ea379d7-ab8f-4833-efbd-aa41bd650c63"
      },
      "execution_count": 142,
      "outputs": [
        {
          "output_type": "stream",
          "name": "stdout",
          "text": [
            "R squared:  69.6944214745464\n",
            "Mean Absolute Error: 0.07881358260266709\n",
            "Mean Square Error: 0.01062595645613692\n",
            "Root Mean Square Error: 0.10308228002977486\n"
          ]
        }
      ]
    },
    {
      "cell_type": "markdown",
      "source": [
        "R squared value comes out to be 69.69"
      ],
      "metadata": {
        "id": "9ivdMMVogrwk"
      }
    },
    {
      "cell_type": "markdown",
      "source": [
        "Correlation coefficient of N2O and CFC-11 with all other variables"
      ],
      "metadata": {
        "id": "3nYsOr6Ig4KI"
      }
    },
    {
      "cell_type": "code",
      "source": [
        "get_corr_coef(data= x_train, col='N2O')"
      ],
      "metadata": {
        "colab": {
          "base_uri": "https://localhost:8080/"
        },
        "id": "2j-y2_CEURy8",
        "outputId": "fad31859-b70d-4e52-d08a-7b8bc86d2962"
      },
      "execution_count": 143,
      "outputs": [
        {
          "output_type": "stream",
          "name": "stdout",
          "text": [
            "The correlation coefficient of N2O and MEI is -0.06177124908370091\n",
            "The correlation coefficient of N2O and CO2 is 0.9749926361365618\n",
            "The correlation coefficient of N2O and CH4 is 0.8903124993701752\n",
            "The correlation coefficient of N2O and CFC-11 is 0.3273891567210462\n",
            "The correlation coefficient of N2O and CFC-12 is 0.8645200386566597\n",
            "The correlation coefficient of N2O and TSI is 0.15958759016062263\n",
            "The correlation coefficient of N2O and Aerosols is -0.6609381809526801\n"
          ]
        }
      ]
    },
    {
      "cell_type": "markdown",
      "source": [
        "N2O is highly correlated with CO2,CH4,CFC-12 with correlation coefficient more than 0.7"
      ],
      "metadata": {
        "id": "JWsNDsdvha-5"
      }
    },
    {
      "cell_type": "code",
      "source": [
        "get_corr_coef(data= x_train, col='CFC-11')"
      ],
      "metadata": {
        "colab": {
          "base_uri": "https://localhost:8080/"
        },
        "id": "yFCv03qfy9aT",
        "outputId": "8c0eaa38-0b0f-4bdf-b862-28d3084f9f2b"
      },
      "execution_count": 144,
      "outputs": [
        {
          "output_type": "stream",
          "name": "stdout",
          "text": [
            "The correlation coefficient of CFC-11 and MEI is -0.16610201966431865\n",
            "The correlation coefficient of CFC-11 and CO2 is 0.34154482148525867\n",
            "The correlation coefficient of CFC-11 and CH4 is 0.627913787898016\n",
            "The correlation coefficient of CFC-11 and N2O is 0.3273891567210462\n",
            "The correlation coefficient of CFC-11 and CFC-12 is 0.7493680735584559\n",
            "The correlation coefficient of CFC-11 and TSI is 0.2571940874708528\n",
            "The correlation coefficient of CFC-11 and Aerosols is -0.23054354377641395\n"
          ]
        }
      ]
    },
    {
      "cell_type": "markdown",
      "source": [
        "CFC-11 and CFC-12 are higly correlated "
      ],
      "metadata": {
        "id": "_suxPDHrh47p"
      }
    },
    {
      "cell_type": "markdown",
      "source": [
        "Training the Model with N2O, Mei, TSI and Aerosol to see regression results"
      ],
      "metadata": {
        "id": "huDZfydzikcB"
      }
    },
    {
      "cell_type": "markdown",
      "source": [
        "## **Creating Model number 2**"
      ],
      "metadata": {
        "id": "3wogY146U16G"
      }
    },
    {
      "cell_type": "code",
      "source": [
        "x_train_1 = df1[['MEI', 'N2O', 'TSI', 'Aerosols']]\n",
        "y_train_1 = df1['Temp']\n",
        "x_test_1 = df2[['MEI', 'N2O', 'TSI', 'Aerosols']]\n",
        "y_test_1 = df2['Temp']\n",
        "x_1 = data[['MEI', 'N2O', 'TSI', 'Aerosols']]\n",
        "y_1 = data[['Temp']]"
      ],
      "metadata": {
        "id": "t4B88Hsh4LoO"
      },
      "execution_count": 145,
      "outputs": []
    },
    {
      "cell_type": "code",
      "source": [
        "X2_train_1 = sm.add_constant(x_train_1)\n",
        "est_train_1 = sm.OLS(y_train_1, X2_train_1)\n",
        "est2_1 = est_train_1.fit()\n",
        "print(est2_1.summary())"
      ],
      "metadata": {
        "colab": {
          "base_uri": "https://localhost:8080/"
        },
        "id": "ojbiY5Au4PJb",
        "outputId": "3d4e505c-3004-419f-9647-c9ab4ef98fe8"
      },
      "execution_count": 146,
      "outputs": [
        {
          "output_type": "stream",
          "name": "stderr",
          "text": [
            "/usr/local/lib/python3.7/dist-packages/statsmodels/tsa/tsatools.py:142: FutureWarning: In a future version of pandas all arguments of concat except for the argument 'objs' will be keyword-only\n",
            "  x = pd.concat(x[::order], 1)\n"
          ]
        },
        {
          "output_type": "stream",
          "name": "stdout",
          "text": [
            "                            OLS Regression Results                            \n",
            "==============================================================================\n",
            "Dep. Variable:                   Temp   R-squared:                       0.706\n",
            "Model:                            OLS   Adj. R-squared:                  0.701\n",
            "Method:                 Least Squares   F-statistic:                     128.7\n",
            "Date:                Wed, 23 Nov 2022   Prob (F-statistic):           8.92e-56\n",
            "Time:                        16:35:00   Log-Likelihood:                 223.51\n",
            "No. Observations:                 219   AIC:                            -437.0\n",
            "Df Residuals:                     214   BIC:                            -420.1\n",
            "Df Model:                           4                                         \n",
            "Covariance Type:            nonrobust                                         \n",
            "==============================================================================\n",
            "                 coef    std err          t      P>|t|      [0.025      0.975]\n",
            "------------------------------------------------------------------------------\n",
            "const        -53.1366     23.146     -2.296      0.023     -98.759      -7.514\n",
            "MEI            0.0606      0.007      8.212      0.000       0.046       0.075\n",
            "N2O            0.0217      0.002     12.113      0.000       0.018       0.025\n",
            "TSI            0.0342      0.017      2.028      0.044       0.001       0.067\n",
            "Aerosols      -8.3714      1.995     -4.197      0.000     -12.303      -4.439\n",
            "==============================================================================\n",
            "Omnibus:                        9.543   Durbin-Watson:                   0.940\n",
            "Prob(Omnibus):                  0.008   Jarque-Bera (JB):               10.250\n",
            "Skew:                           0.407   Prob(JB):                      0.00595\n",
            "Kurtosis:                       3.678   Cond. No.                     5.45e+06\n",
            "==============================================================================\n",
            "\n",
            "Notes:\n",
            "[1] Standard Errors assume that the covariance matrix of the errors is correctly specified.\n",
            "[2] The condition number is large, 5.45e+06. This might indicate that there are\n",
            "strong multicollinearity or other numerical problems.\n"
          ]
        }
      ]
    },
    {
      "cell_type": "code",
      "source": [
        "import statsmodels.api as sm\n",
        "from sklearn.model_selection import train_test_split\n",
        "# If p-value < 0.05 -->Significant\n",
        "# If p-value > 0.05 -->Not Significant\n",
        "\n",
        "x_const = sm.add_constant(x_1)\n",
        "model = sm.OLS(y_1, x_const) \n",
        "results = model.fit() \n",
        "\n",
        "print('The condition number is ',results.condition_number)\n",
        "p_df=pd.DataFrame({'coef': results.params , 'pvalue': round(results.pvalues,3)})\n",
        "print(\"The attributes with pvalue less than 0.05 are as follows\")\n",
        "p_df[ p_df['pvalue']<0.05 ]"
      ],
      "metadata": {
        "colab": {
          "base_uri": "https://localhost:8080/",
          "height": 296
        },
        "id": "sOUbVGlOVMS-",
        "outputId": "d1de5977-c6c1-4407-e27e-420e81a32503"
      },
      "execution_count": 147,
      "outputs": [
        {
          "output_type": "stream",
          "name": "stdout",
          "text": [
            "The condition number is  5534536.181884937\n",
            "The attributes with pvalue less than 0.05 are as follows\n"
          ]
        },
        {
          "output_type": "stream",
          "name": "stderr",
          "text": [
            "/usr/local/lib/python3.7/dist-packages/statsmodels/tsa/tsatools.py:142: FutureWarning: In a future version of pandas all arguments of concat except for the argument 'objs' will be keyword-only\n",
            "  x = pd.concat(x[::order], 1)\n"
          ]
        },
        {
          "output_type": "execute_result",
          "data": {
            "text/plain": [
              "               coef  pvalue\n",
              "const    -72.195748   0.002\n",
              "MEI        0.068912   0.000\n",
              "N2O        0.019522   0.000\n",
              "TSI        0.048618   0.004\n",
              "Aerosols  -9.060785   0.000"
            ],
            "text/html": [
              "\n",
              "  <div id=\"df-10d58e45-78dd-4094-94f0-e934ec61a5a9\">\n",
              "    <div class=\"colab-df-container\">\n",
              "      <div>\n",
              "<style scoped>\n",
              "    .dataframe tbody tr th:only-of-type {\n",
              "        vertical-align: middle;\n",
              "    }\n",
              "\n",
              "    .dataframe tbody tr th {\n",
              "        vertical-align: top;\n",
              "    }\n",
              "\n",
              "    .dataframe thead th {\n",
              "        text-align: right;\n",
              "    }\n",
              "</style>\n",
              "<table border=\"1\" class=\"dataframe\">\n",
              "  <thead>\n",
              "    <tr style=\"text-align: right;\">\n",
              "      <th></th>\n",
              "      <th>coef</th>\n",
              "      <th>pvalue</th>\n",
              "    </tr>\n",
              "  </thead>\n",
              "  <tbody>\n",
              "    <tr>\n",
              "      <th>const</th>\n",
              "      <td>-72.195748</td>\n",
              "      <td>0.002</td>\n",
              "    </tr>\n",
              "    <tr>\n",
              "      <th>MEI</th>\n",
              "      <td>0.068912</td>\n",
              "      <td>0.000</td>\n",
              "    </tr>\n",
              "    <tr>\n",
              "      <th>N2O</th>\n",
              "      <td>0.019522</td>\n",
              "      <td>0.000</td>\n",
              "    </tr>\n",
              "    <tr>\n",
              "      <th>TSI</th>\n",
              "      <td>0.048618</td>\n",
              "      <td>0.004</td>\n",
              "    </tr>\n",
              "    <tr>\n",
              "      <th>Aerosols</th>\n",
              "      <td>-9.060785</td>\n",
              "      <td>0.000</td>\n",
              "    </tr>\n",
              "  </tbody>\n",
              "</table>\n",
              "</div>\n",
              "      <button class=\"colab-df-convert\" onclick=\"convertToInteractive('df-10d58e45-78dd-4094-94f0-e934ec61a5a9')\"\n",
              "              title=\"Convert this dataframe to an interactive table.\"\n",
              "              style=\"display:none;\">\n",
              "        \n",
              "  <svg xmlns=\"http://www.w3.org/2000/svg\" height=\"24px\"viewBox=\"0 0 24 24\"\n",
              "       width=\"24px\">\n",
              "    <path d=\"M0 0h24v24H0V0z\" fill=\"none\"/>\n",
              "    <path d=\"M18.56 5.44l.94 2.06.94-2.06 2.06-.94-2.06-.94-.94-2.06-.94 2.06-2.06.94zm-11 1L8.5 8.5l.94-2.06 2.06-.94-2.06-.94L8.5 2.5l-.94 2.06-2.06.94zm10 10l.94 2.06.94-2.06 2.06-.94-2.06-.94-.94-2.06-.94 2.06-2.06.94z\"/><path d=\"M17.41 7.96l-1.37-1.37c-.4-.4-.92-.59-1.43-.59-.52 0-1.04.2-1.43.59L10.3 9.45l-7.72 7.72c-.78.78-.78 2.05 0 2.83L4 21.41c.39.39.9.59 1.41.59.51 0 1.02-.2 1.41-.59l7.78-7.78 2.81-2.81c.8-.78.8-2.07 0-2.86zM5.41 20L4 18.59l7.72-7.72 1.47 1.35L5.41 20z\"/>\n",
              "  </svg>\n",
              "      </button>\n",
              "      \n",
              "  <style>\n",
              "    .colab-df-container {\n",
              "      display:flex;\n",
              "      flex-wrap:wrap;\n",
              "      gap: 12px;\n",
              "    }\n",
              "\n",
              "    .colab-df-convert {\n",
              "      background-color: #E8F0FE;\n",
              "      border: none;\n",
              "      border-radius: 50%;\n",
              "      cursor: pointer;\n",
              "      display: none;\n",
              "      fill: #1967D2;\n",
              "      height: 32px;\n",
              "      padding: 0 0 0 0;\n",
              "      width: 32px;\n",
              "    }\n",
              "\n",
              "    .colab-df-convert:hover {\n",
              "      background-color: #E2EBFA;\n",
              "      box-shadow: 0px 1px 2px rgba(60, 64, 67, 0.3), 0px 1px 3px 1px rgba(60, 64, 67, 0.15);\n",
              "      fill: #174EA6;\n",
              "    }\n",
              "\n",
              "    [theme=dark] .colab-df-convert {\n",
              "      background-color: #3B4455;\n",
              "      fill: #D2E3FC;\n",
              "    }\n",
              "\n",
              "    [theme=dark] .colab-df-convert:hover {\n",
              "      background-color: #434B5C;\n",
              "      box-shadow: 0px 1px 3px 1px rgba(0, 0, 0, 0.15);\n",
              "      filter: drop-shadow(0px 1px 2px rgba(0, 0, 0, 0.3));\n",
              "      fill: #FFFFFF;\n",
              "    }\n",
              "  </style>\n",
              "\n",
              "      <script>\n",
              "        const buttonEl =\n",
              "          document.querySelector('#df-10d58e45-78dd-4094-94f0-e934ec61a5a9 button.colab-df-convert');\n",
              "        buttonEl.style.display =\n",
              "          google.colab.kernel.accessAllowed ? 'block' : 'none';\n",
              "\n",
              "        async function convertToInteractive(key) {\n",
              "          const element = document.querySelector('#df-10d58e45-78dd-4094-94f0-e934ec61a5a9');\n",
              "          const dataTable =\n",
              "            await google.colab.kernel.invokeFunction('convertToInteractive',\n",
              "                                                     [key], {});\n",
              "          if (!dataTable) return;\n",
              "\n",
              "          const docLinkHtml = 'Like what you see? Visit the ' +\n",
              "            '<a target=\"_blank\" href=https://colab.research.google.com/notebooks/data_table.ipynb>data table notebook</a>'\n",
              "            + ' to learn more about interactive tables.';\n",
              "          element.innerHTML = '';\n",
              "          dataTable['output_type'] = 'display_data';\n",
              "          await google.colab.output.renderOutput(dataTable, element);\n",
              "          const docLink = document.createElement('div');\n",
              "          docLink.innerHTML = docLinkHtml;\n",
              "          element.appendChild(docLink);\n",
              "        }\n",
              "      </script>\n",
              "    </div>\n",
              "  </div>\n",
              "  "
            ]
          },
          "metadata": {},
          "execution_count": 147
        }
      ]
    },
    {
      "cell_type": "code",
      "source": [
        "from sklearn.linear_model import LinearRegression\n",
        "lr = LinearRegression()  \n",
        "lr.fit(x_train_1, y_train_1)"
      ],
      "metadata": {
        "colab": {
          "base_uri": "https://localhost:8080/"
        },
        "id": "EowMtHFw4Qzv",
        "outputId": "26149052-3fad-4af6-f1d0-c27ca9ee6071"
      },
      "execution_count": 148,
      "outputs": [
        {
          "output_type": "execute_result",
          "data": {
            "text/plain": [
              "LinearRegression()"
            ]
          },
          "metadata": {},
          "execution_count": 148
        }
      ]
    },
    {
      "cell_type": "code",
      "source": [
        "print(\"Intercept: \", lr.intercept_)\n",
        "print(\"Coefficients:\")\n",
        "print(list(zip(x_1, lr.coef_)))\n",
        "\n",
        "#Prediction of test set\n",
        "y_pred_lr_1= lr.predict(x_test_1)\n",
        "\n",
        "# print(\"Prediction for test set: {}\".format(y_pred_mlr_1))"
      ],
      "metadata": {
        "colab": {
          "base_uri": "https://localhost:8080/"
        },
        "id": "0DrDJyun4vtf",
        "outputId": "5736fb5f-2f4f-41fb-dfae-31275bbba500"
      },
      "execution_count": 152,
      "outputs": [
        {
          "output_type": "stream",
          "name": "stdout",
          "text": [
            "Intercept:  -53.13657186298024\n",
            "Coefficients:\n",
            "[('MEI', 0.06057100564913947), ('N2O', 0.0217419646685703), ('TSI', 0.03415981688806212), ('Aerosols', -8.37144911641541)]\n"
          ]
        }
      ]
    },
    {
      "cell_type": "markdown",
      "source": [
        "Coefficient of N2O increases in this model to 0.0217 versus 0.001826 suggesting more dependency on nitrous oxide in this model"
      ],
      "metadata": {
        "id": "JXaNN43htQnD"
      }
    },
    {
      "cell_type": "code",
      "source": [
        "lr_diff_1 = pd.DataFrame({'Actual value': y_test_1, 'Predicted value': y_pred_lr_1})\n",
        "lr_diff_1.head()"
      ],
      "metadata": {
        "colab": {
          "base_uri": "https://localhost:8080/",
          "height": 206
        },
        "id": "xw8t4H4J4z8r",
        "outputId": "48bf848f-19ed-4768-b8ac-f4f373fefadd"
      },
      "execution_count": 150,
      "outputs": [
        {
          "output_type": "execute_result",
          "data": {
            "text/plain": [
              "     Actual value  Predicted value\n",
              "284         0.601         0.499497\n",
              "285         0.498         0.474026\n",
              "286         0.435         0.453502\n",
              "287         0.466         0.444320\n",
              "288         0.372         0.459123"
            ],
            "text/html": [
              "\n",
              "  <div id=\"df-a05e7b73-45cd-46a6-81a9-65b2af576787\">\n",
              "    <div class=\"colab-df-container\">\n",
              "      <div>\n",
              "<style scoped>\n",
              "    .dataframe tbody tr th:only-of-type {\n",
              "        vertical-align: middle;\n",
              "    }\n",
              "\n",
              "    .dataframe tbody tr th {\n",
              "        vertical-align: top;\n",
              "    }\n",
              "\n",
              "    .dataframe thead th {\n",
              "        text-align: right;\n",
              "    }\n",
              "</style>\n",
              "<table border=\"1\" class=\"dataframe\">\n",
              "  <thead>\n",
              "    <tr style=\"text-align: right;\">\n",
              "      <th></th>\n",
              "      <th>Actual value</th>\n",
              "      <th>Predicted value</th>\n",
              "    </tr>\n",
              "  </thead>\n",
              "  <tbody>\n",
              "    <tr>\n",
              "      <th>284</th>\n",
              "      <td>0.601</td>\n",
              "      <td>0.499497</td>\n",
              "    </tr>\n",
              "    <tr>\n",
              "      <th>285</th>\n",
              "      <td>0.498</td>\n",
              "      <td>0.474026</td>\n",
              "    </tr>\n",
              "    <tr>\n",
              "      <th>286</th>\n",
              "      <td>0.435</td>\n",
              "      <td>0.453502</td>\n",
              "    </tr>\n",
              "    <tr>\n",
              "      <th>287</th>\n",
              "      <td>0.466</td>\n",
              "      <td>0.444320</td>\n",
              "    </tr>\n",
              "    <tr>\n",
              "      <th>288</th>\n",
              "      <td>0.372</td>\n",
              "      <td>0.459123</td>\n",
              "    </tr>\n",
              "  </tbody>\n",
              "</table>\n",
              "</div>\n",
              "      <button class=\"colab-df-convert\" onclick=\"convertToInteractive('df-a05e7b73-45cd-46a6-81a9-65b2af576787')\"\n",
              "              title=\"Convert this dataframe to an interactive table.\"\n",
              "              style=\"display:none;\">\n",
              "        \n",
              "  <svg xmlns=\"http://www.w3.org/2000/svg\" height=\"24px\"viewBox=\"0 0 24 24\"\n",
              "       width=\"24px\">\n",
              "    <path d=\"M0 0h24v24H0V0z\" fill=\"none\"/>\n",
              "    <path d=\"M18.56 5.44l.94 2.06.94-2.06 2.06-.94-2.06-.94-.94-2.06-.94 2.06-2.06.94zm-11 1L8.5 8.5l.94-2.06 2.06-.94-2.06-.94L8.5 2.5l-.94 2.06-2.06.94zm10 10l.94 2.06.94-2.06 2.06-.94-2.06-.94-.94-2.06-.94 2.06-2.06.94z\"/><path d=\"M17.41 7.96l-1.37-1.37c-.4-.4-.92-.59-1.43-.59-.52 0-1.04.2-1.43.59L10.3 9.45l-7.72 7.72c-.78.78-.78 2.05 0 2.83L4 21.41c.39.39.9.59 1.41.59.51 0 1.02-.2 1.41-.59l7.78-7.78 2.81-2.81c.8-.78.8-2.07 0-2.86zM5.41 20L4 18.59l7.72-7.72 1.47 1.35L5.41 20z\"/>\n",
              "  </svg>\n",
              "      </button>\n",
              "      \n",
              "  <style>\n",
              "    .colab-df-container {\n",
              "      display:flex;\n",
              "      flex-wrap:wrap;\n",
              "      gap: 12px;\n",
              "    }\n",
              "\n",
              "    .colab-df-convert {\n",
              "      background-color: #E8F0FE;\n",
              "      border: none;\n",
              "      border-radius: 50%;\n",
              "      cursor: pointer;\n",
              "      display: none;\n",
              "      fill: #1967D2;\n",
              "      height: 32px;\n",
              "      padding: 0 0 0 0;\n",
              "      width: 32px;\n",
              "    }\n",
              "\n",
              "    .colab-df-convert:hover {\n",
              "      background-color: #E2EBFA;\n",
              "      box-shadow: 0px 1px 2px rgba(60, 64, 67, 0.3), 0px 1px 3px 1px rgba(60, 64, 67, 0.15);\n",
              "      fill: #174EA6;\n",
              "    }\n",
              "\n",
              "    [theme=dark] .colab-df-convert {\n",
              "      background-color: #3B4455;\n",
              "      fill: #D2E3FC;\n",
              "    }\n",
              "\n",
              "    [theme=dark] .colab-df-convert:hover {\n",
              "      background-color: #434B5C;\n",
              "      box-shadow: 0px 1px 3px 1px rgba(0, 0, 0, 0.15);\n",
              "      filter: drop-shadow(0px 1px 2px rgba(0, 0, 0, 0.3));\n",
              "      fill: #FFFFFF;\n",
              "    }\n",
              "  </style>\n",
              "\n",
              "      <script>\n",
              "        const buttonEl =\n",
              "          document.querySelector('#df-a05e7b73-45cd-46a6-81a9-65b2af576787 button.colab-df-convert');\n",
              "        buttonEl.style.display =\n",
              "          google.colab.kernel.accessAllowed ? 'block' : 'none';\n",
              "\n",
              "        async function convertToInteractive(key) {\n",
              "          const element = document.querySelector('#df-a05e7b73-45cd-46a6-81a9-65b2af576787');\n",
              "          const dataTable =\n",
              "            await google.colab.kernel.invokeFunction('convertToInteractive',\n",
              "                                                     [key], {});\n",
              "          if (!dataTable) return;\n",
              "\n",
              "          const docLinkHtml = 'Like what you see? Visit the ' +\n",
              "            '<a target=\"_blank\" href=https://colab.research.google.com/notebooks/data_table.ipynb>data table notebook</a>'\n",
              "            + ' to learn more about interactive tables.';\n",
              "          element.innerHTML = '';\n",
              "          dataTable['output_type'] = 'display_data';\n",
              "          await google.colab.output.renderOutput(dataTable, element);\n",
              "          const docLink = document.createElement('div');\n",
              "          docLink.innerHTML = docLinkHtml;\n",
              "          element.appendChild(docLink);\n",
              "        }\n",
              "      </script>\n",
              "    </div>\n",
              "  </div>\n",
              "  "
            ]
          },
          "metadata": {},
          "execution_count": 150
        }
      ]
    },
    {
      "cell_type": "code",
      "source": [
        "\n",
        "from sklearn import metrics\n",
        "meanAbErr = metrics.mean_absolute_error(y_test_1, y_pred_lr_1)\n",
        "meanSqErr = metrics.mean_squared_error(y_test_1, y_pred_lr_1)\n",
        "rootMeanSqErr = np.sqrt(metrics.mean_squared_error(y_test_1, y_pred_lr_1))\n",
        "print('R squared: {:.2f}'.format(lr.score(x_1,y_1)*100))\n",
        "print('Mean Absolute Error:', meanAbErr)\n",
        "print('Mean Square Error:', meanSqErr)\n",
        "print('Root Mean Square Error:', rootMeanSqErr)"
      ],
      "metadata": {
        "id": "zM56-SBO42Is",
        "outputId": "c3e8a8ba-b333-4750-c736-182915e9a0da",
        "colab": {
          "base_uri": "https://localhost:8080/"
        }
      },
      "execution_count": 151,
      "outputs": [
        {
          "output_type": "stream",
          "name": "stdout",
          "text": [
            "R squared: 67.00\n",
            "Mean Absolute Error: 0.09020686837753002\n",
            "Mean Square Error: 0.013717618459981736\n",
            "Root Mean Square Error: 0.11712223725655917\n"
          ]
        }
      ]
    },
    {
      "cell_type": "markdown",
      "source": [
        "**Conclusion**\n",
        "\n",
        "The variables that have a P-Value less than 0.05 are CFC-12, TSI, Aerosols and MEI\n",
        "\n",
        "The R-squared value for the model with alll the variables is 69.69\n",
        "\n",
        "N20 and CFC-11 were correlated with all the variables and we found out that:\n",
        "\n",
        "a. N2O is correlated with CO2, CH4, CFC-12 since their correlation coefficient is greater than 0.7\n",
        "\n",
        "b. CFC-11 is corelated with CFC-12 since their correlation coefficient is greater than 0.7\n",
        "\n",
        "Therefore the statement [III. All of the gas concentration variables reflect human development - N2O and CFC.11 are correlated with other variables in the data set.]\n",
        "\n",
        "Is true\n",
        "\n",
        "Now a model with only N20, Mei, TSI and Aerosols is trained.\n",
        "\n",
        "a. The coeffcient of N2O in this model is = 0.0217\n",
        "\n",
        "In the previous model the coefficient of N2O was = 0.001826\n",
        "\n",
        "So the coefficient has increased in this model suggesting that N2O has a greater influence on this model than the previous one.\n",
        "\n",
        "b. The R-sqaured value of the new model is 67.00 which has been decreased from the previous model which was 69.69. So the first model is a better model for our varibles than our previous models."
      ],
      "metadata": {
        "id": "4Z6ArxtUur2R"
      }
    }
  ]
}